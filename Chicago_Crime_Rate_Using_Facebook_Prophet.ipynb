{
  "nbformat": 4,
  "nbformat_minor": 0,
  "metadata": {
    "colab": {
      "name": "Chicago_Crime_Rate_Using_Facebook_Prophet.ipynb",
      "provenance": [],
      "collapsed_sections": [],
      "machine_shape": "hm"
    },
    "kernelspec": {
      "name": "python3",
      "display_name": "Python 3"
    }
  },
  "cells": [
    {
      "cell_type": "code",
      "metadata": {
        "id": "p-C4HCvqhVjg",
        "colab_type": "code",
        "colab": {}
      },
      "source": [
        "import numpy as np\n",
        "import pandas as pd\n",
        "import matplotlib.pyplot as plt\n",
        "import random\n",
        "import seaborn as sns\n",
        "from fbprophet import Prophet"
      ],
      "execution_count": 0,
      "outputs": []
    },
    {
      "cell_type": "code",
      "metadata": {
        "id": "9Qc98KsYhiZq",
        "colab_type": "code",
        "outputId": "f7742b9b-0ef3-454e-d40e-aca226543db8",
        "colab": {
          "base_uri": "https://localhost:8080/",
          "height": 523
        }
      },
      "source": [
        "!apt-get install -y -qq software-properties-common python-software-properties module-init-tools\n",
        "!add-apt-repository -y ppa:alessandro-strada/ppa 2>&1 > /dev/null\n",
        "!apt-get update -qq 2>&1 > /dev/null\n",
        "!apt-get -y install -qq google-drive-ocamlfuse fuse\n",
        "\n",
        "\n",
        "\n",
        "# Generate auth tokens for Colab\n",
        "from google.colab import auth\n",
        "auth.authenticate_user()\n",
        "\n",
        "\n",
        "# Generate creds for the Drive FUSE library.\n",
        "from oauth2client.client import GoogleCredentials\n",
        "creds = GoogleCredentials.get_application_default()\n",
        "import getpass\n",
        "!google-drive-ocamlfuse -headless -id={creds.client_id} -secret={creds.client_secret} < /dev/null 2>&1 | grep URL\n",
        "vcode = getpass.getpass()\n",
        "!echo {vcode} | google-drive-ocamlfuse -headless -id={creds.client_id} -secret={creds.client_secret}\n",
        "\n",
        "\n",
        "# Create a directory and mount Google Drive using that directory.\n",
        "!mkdir -p My Drive\n",
        "!google-drive-ocamlfuse My Drive\n",
        "\n",
        "\n",
        "!ls My Drive/\n",
        "\n",
        "# Create a file in Drive.\n",
        "!echo \"This newly created file will appear in your Drive file list.\" > My Drive/created.txt"
      ],
      "execution_count": 3,
      "outputs": [
        {
          "output_type": "stream",
          "text": [
            "E: Package 'python-software-properties' has no installation candidate\n",
            "Selecting previously unselected package google-drive-ocamlfuse.\n",
            "(Reading database ... 135004 files and directories currently installed.)\n",
            "Preparing to unpack .../google-drive-ocamlfuse_0.7.14-0ubuntu1~ubuntu18.04.1_amd64.deb ...\n",
            "Unpacking google-drive-ocamlfuse (0.7.14-0ubuntu1~ubuntu18.04.1) ...\n",
            "Setting up google-drive-ocamlfuse (0.7.14-0ubuntu1~ubuntu18.04.1) ...\n",
            "Processing triggers for man-db (2.8.3-2ubuntu0.1) ...\n",
            "Please, open the following URL in a web browser: https://accounts.google.com/o/oauth2/auth?client_id=32555940559.apps.googleusercontent.com&redirect_uri=urn%3Aietf%3Awg%3Aoauth%3A2.0%3Aoob&scope=https%3A%2F%2Fwww.googleapis.com%2Fauth%2Fdrive&response_type=code&access_type=offline&approval_prompt=force\n",
            "··········\n",
            "Please, open the following URL in a web browser: https://accounts.google.com/o/oauth2/auth?client_id=32555940559.apps.googleusercontent.com&redirect_uri=urn%3Aietf%3Awg%3Aoauth%3A2.0%3Aoob&scope=https%3A%2F%2Fwww.googleapis.com%2Fauth%2Fdrive&response_type=code&access_type=offline&approval_prompt=force\n",
            "Please enter the verification code: Access token retrieved correctly.\n",
            "Drive/:\n",
            " 20190824_130314.jpg\t\t      'Getting started'\n",
            " 20191013_093233.jpg\t\t      'html css'\n",
            " 20191013_093247.jpg\t\t       MonalisaPanda_Task1.rar\n",
            " 20191013_093303.jpg\t\t       MonalisaPanda_TASK1.rar\n",
            " 20191013_093304.jpg\t\t       MonalisaPandaWebsite\n",
            " 20191013_093528.jpg\t\t      'resume-converted (3).pdf'\n",
            "'CCA-Certificate-Python Level 1.pdf'  'Resume Monalisa Panda-converted (3).pdf'\n",
            " Chicago_Crimes_2005_to_2007.csv      'Salary_Data (1).ipynb'\n",
            " Chicago_Crimes_2008_to_2011.csv      'Sky Lanten.jpg'\n",
            " Chicago_Crimes_2012_to_2017.csv       Social_Network_Ads.csv\n",
            " clinical.PNG\t\t\t       Social_Network_Ads.ipynb\n",
            "'Colab Notebooks'\t\t      'stack(insertion,deletion).c'\n",
            "'Credit Card Fraud Detection.ipynb'   'website (Monalisa Panda)'\n",
            "\n",
            "My:\n",
            "/bin/bash: My: Is a directory\n"
          ],
          "name": "stdout"
        }
      ]
    },
    {
      "cell_type": "code",
      "metadata": {
        "id": "wWAKOztOknuC",
        "colab_type": "code",
        "outputId": "e3e75da8-0c25-4e60-d302-c3f148efe985",
        "colab": {
          "base_uri": "https://localhost:8080/",
          "height": 52
        }
      },
      "source": [
        "chicago_df_1 = pd.read_csv('Drive/Chicago_Crimes_2005_to_2007.csv', error_bad_lines=False)\n",
        "chicago_df_2 = pd.read_csv('Drive/Chicago_Crimes_2008_to_2011.csv', error_bad_lines=False)\n",
        "chicago_df_3 = pd.read_csv('Drive/Chicago_Crimes_2012_to_2017.csv', error_bad_lines=False)"
      ],
      "execution_count": 4,
      "outputs": [
        {
          "output_type": "stream",
          "text": [
            "b'Skipping line 533719: expected 23 fields, saw 24\\n'\n",
            "b'Skipping line 1149094: expected 23 fields, saw 41\\n'\n"
          ],
          "name": "stderr"
        }
      ]
    },
    {
      "cell_type": "code",
      "metadata": {
        "id": "5TdGUqUQkpvA",
        "colab_type": "code",
        "colab": {}
      },
      "source": [
        "chicago_df = pd.concat([chicago_df_1, chicago_df_2, chicago_df_3], ignore_index=False, axis=0)"
      ],
      "execution_count": 0,
      "outputs": []
    },
    {
      "cell_type": "code",
      "metadata": {
        "id": "CvQTtSE3Na1t",
        "colab_type": "code",
        "colab": {
          "base_uri": "https://localhost:8080/",
          "height": 799
        },
        "outputId": "47a38cfb-fe11-43f2-b8d5-28187c245e9a"
      },
      "source": [
        "chicago_df"
      ],
      "execution_count": 6,
      "outputs": [
        {
          "output_type": "execute_result",
          "data": {
            "text/html": [
              "<div>\n",
              "<style scoped>\n",
              "    .dataframe tbody tr th:only-of-type {\n",
              "        vertical-align: middle;\n",
              "    }\n",
              "\n",
              "    .dataframe tbody tr th {\n",
              "        vertical-align: top;\n",
              "    }\n",
              "\n",
              "    .dataframe thead th {\n",
              "        text-align: right;\n",
              "    }\n",
              "</style>\n",
              "<table border=\"1\" class=\"dataframe\">\n",
              "  <thead>\n",
              "    <tr style=\"text-align: right;\">\n",
              "      <th></th>\n",
              "      <th>Unnamed: 0</th>\n",
              "      <th>ID</th>\n",
              "      <th>Case Number</th>\n",
              "      <th>Date</th>\n",
              "      <th>Block</th>\n",
              "      <th>IUCR</th>\n",
              "      <th>Primary Type</th>\n",
              "      <th>Description</th>\n",
              "      <th>Location Description</th>\n",
              "      <th>Arrest</th>\n",
              "      <th>Domestic</th>\n",
              "      <th>Beat</th>\n",
              "      <th>District</th>\n",
              "      <th>Ward</th>\n",
              "      <th>Community Area</th>\n",
              "      <th>FBI Code</th>\n",
              "      <th>X Coordinate</th>\n",
              "      <th>Y Coordinate</th>\n",
              "      <th>Year</th>\n",
              "      <th>Updated On</th>\n",
              "      <th>Latitude</th>\n",
              "      <th>Longitude</th>\n",
              "      <th>Location</th>\n",
              "    </tr>\n",
              "  </thead>\n",
              "  <tbody>\n",
              "    <tr>\n",
              "      <th>0</th>\n",
              "      <td>0</td>\n",
              "      <td>4673626</td>\n",
              "      <td>HM274058</td>\n",
              "      <td>04/02/2006 01:00:00 PM</td>\n",
              "      <td>055XX N MANGO AVE</td>\n",
              "      <td>2825</td>\n",
              "      <td>OTHER OFFENSE</td>\n",
              "      <td>HARASSMENT BY TELEPHONE</td>\n",
              "      <td>RESIDENCE</td>\n",
              "      <td>False</td>\n",
              "      <td>False</td>\n",
              "      <td>1622</td>\n",
              "      <td>16.0</td>\n",
              "      <td>45.0</td>\n",
              "      <td>11.0</td>\n",
              "      <td>26</td>\n",
              "      <td>1136872.0</td>\n",
              "      <td>1936499.0</td>\n",
              "      <td>2006</td>\n",
              "      <td>04/15/2016 08:55:02 AM</td>\n",
              "      <td>41.981913</td>\n",
              "      <td>-87.771996</td>\n",
              "      <td>(41.981912692, -87.771996382)</td>\n",
              "    </tr>\n",
              "    <tr>\n",
              "      <th>1</th>\n",
              "      <td>1</td>\n",
              "      <td>4673627</td>\n",
              "      <td>HM202199</td>\n",
              "      <td>02/26/2006 01:40:48 PM</td>\n",
              "      <td>065XX S RHODES AVE</td>\n",
              "      <td>2017</td>\n",
              "      <td>NARCOTICS</td>\n",
              "      <td>MANU/DELIVER:CRACK</td>\n",
              "      <td>SIDEWALK</td>\n",
              "      <td>True</td>\n",
              "      <td>False</td>\n",
              "      <td>321</td>\n",
              "      <td>3.0</td>\n",
              "      <td>20.0</td>\n",
              "      <td>42.0</td>\n",
              "      <td>18</td>\n",
              "      <td>1181027.0</td>\n",
              "      <td>1861693.0</td>\n",
              "      <td>2006</td>\n",
              "      <td>04/15/2016 08:55:02 AM</td>\n",
              "      <td>41.775733</td>\n",
              "      <td>-87.611920</td>\n",
              "      <td>(41.775732538, -87.611919814)</td>\n",
              "    </tr>\n",
              "    <tr>\n",
              "      <th>2</th>\n",
              "      <td>2</td>\n",
              "      <td>4673628</td>\n",
              "      <td>HM113861</td>\n",
              "      <td>01/08/2006 11:16:00 PM</td>\n",
              "      <td>013XX E 69TH ST</td>\n",
              "      <td>051A</td>\n",
              "      <td>ASSAULT</td>\n",
              "      <td>AGGRAVATED: HANDGUN</td>\n",
              "      <td>OTHER</td>\n",
              "      <td>False</td>\n",
              "      <td>False</td>\n",
              "      <td>321</td>\n",
              "      <td>3.0</td>\n",
              "      <td>5.0</td>\n",
              "      <td>69.0</td>\n",
              "      <td>04A</td>\n",
              "      <td>1186023.0</td>\n",
              "      <td>1859609.0</td>\n",
              "      <td>2006</td>\n",
              "      <td>04/15/2016 08:55:02 AM</td>\n",
              "      <td>41.769897</td>\n",
              "      <td>-87.593671</td>\n",
              "      <td>(41.769897392, -87.593670899)</td>\n",
              "    </tr>\n",
              "    <tr>\n",
              "      <th>3</th>\n",
              "      <td>4</td>\n",
              "      <td>4673629</td>\n",
              "      <td>HM274049</td>\n",
              "      <td>04/05/2006 06:45:00 PM</td>\n",
              "      <td>061XX W NEWPORT AVE</td>\n",
              "      <td>0460</td>\n",
              "      <td>BATTERY</td>\n",
              "      <td>SIMPLE</td>\n",
              "      <td>RESIDENCE</td>\n",
              "      <td>False</td>\n",
              "      <td>False</td>\n",
              "      <td>1633</td>\n",
              "      <td>16.0</td>\n",
              "      <td>38.0</td>\n",
              "      <td>17.0</td>\n",
              "      <td>08B</td>\n",
              "      <td>1134772.0</td>\n",
              "      <td>1922299.0</td>\n",
              "      <td>2006</td>\n",
              "      <td>04/15/2016 08:55:02 AM</td>\n",
              "      <td>41.942984</td>\n",
              "      <td>-87.780057</td>\n",
              "      <td>(41.942984005, -87.780056951)</td>\n",
              "    </tr>\n",
              "    <tr>\n",
              "      <th>4</th>\n",
              "      <td>5</td>\n",
              "      <td>4673630</td>\n",
              "      <td>HM187120</td>\n",
              "      <td>02/17/2006 09:03:14 PM</td>\n",
              "      <td>037XX W 60TH ST</td>\n",
              "      <td>1811</td>\n",
              "      <td>NARCOTICS</td>\n",
              "      <td>POSS: CANNABIS 30GMS OR LESS</td>\n",
              "      <td>ALLEY</td>\n",
              "      <td>True</td>\n",
              "      <td>False</td>\n",
              "      <td>822</td>\n",
              "      <td>8.0</td>\n",
              "      <td>13.0</td>\n",
              "      <td>65.0</td>\n",
              "      <td>18</td>\n",
              "      <td>1152412.0</td>\n",
              "      <td>1864560.0</td>\n",
              "      <td>2006</td>\n",
              "      <td>04/15/2016 08:55:02 AM</td>\n",
              "      <td>41.784211</td>\n",
              "      <td>-87.716745</td>\n",
              "      <td>(41.784210853, -87.71674491)</td>\n",
              "    </tr>\n",
              "    <tr>\n",
              "      <th>...</th>\n",
              "      <td>...</td>\n",
              "      <td>...</td>\n",
              "      <td>...</td>\n",
              "      <td>...</td>\n",
              "      <td>...</td>\n",
              "      <td>...</td>\n",
              "      <td>...</td>\n",
              "      <td>...</td>\n",
              "      <td>...</td>\n",
              "      <td>...</td>\n",
              "      <td>...</td>\n",
              "      <td>...</td>\n",
              "      <td>...</td>\n",
              "      <td>...</td>\n",
              "      <td>...</td>\n",
              "      <td>...</td>\n",
              "      <td>...</td>\n",
              "      <td>...</td>\n",
              "      <td>...</td>\n",
              "      <td>...</td>\n",
              "      <td>...</td>\n",
              "      <td>...</td>\n",
              "      <td>...</td>\n",
              "    </tr>\n",
              "    <tr>\n",
              "      <th>1456709</th>\n",
              "      <td>6250330</td>\n",
              "      <td>10508679</td>\n",
              "      <td>HZ250507</td>\n",
              "      <td>05/03/2016 11:33:00 PM</td>\n",
              "      <td>026XX W 23RD PL</td>\n",
              "      <td>0486</td>\n",
              "      <td>BATTERY</td>\n",
              "      <td>DOMESTIC BATTERY SIMPLE</td>\n",
              "      <td>APARTMENT</td>\n",
              "      <td>True</td>\n",
              "      <td>True</td>\n",
              "      <td>1034</td>\n",
              "      <td>10.0</td>\n",
              "      <td>28.0</td>\n",
              "      <td>30.0</td>\n",
              "      <td>08B</td>\n",
              "      <td>1159105.0</td>\n",
              "      <td>1888300.0</td>\n",
              "      <td>2016</td>\n",
              "      <td>05/10/2016 03:56:50 PM</td>\n",
              "      <td>41.849222</td>\n",
              "      <td>-87.691556</td>\n",
              "      <td>(41.849222028, -87.69155551)</td>\n",
              "    </tr>\n",
              "    <tr>\n",
              "      <th>1456710</th>\n",
              "      <td>6251089</td>\n",
              "      <td>10508680</td>\n",
              "      <td>HZ250491</td>\n",
              "      <td>05/03/2016 11:30:00 PM</td>\n",
              "      <td>073XX S HARVARD AVE</td>\n",
              "      <td>1310</td>\n",
              "      <td>CRIMINAL DAMAGE</td>\n",
              "      <td>TO PROPERTY</td>\n",
              "      <td>APARTMENT</td>\n",
              "      <td>True</td>\n",
              "      <td>True</td>\n",
              "      <td>731</td>\n",
              "      <td>7.0</td>\n",
              "      <td>17.0</td>\n",
              "      <td>69.0</td>\n",
              "      <td>14</td>\n",
              "      <td>1175230.0</td>\n",
              "      <td>1856183.0</td>\n",
              "      <td>2016</td>\n",
              "      <td>05/10/2016 03:56:50 PM</td>\n",
              "      <td>41.760744</td>\n",
              "      <td>-87.633335</td>\n",
              "      <td>(41.760743949, -87.63333531)</td>\n",
              "    </tr>\n",
              "    <tr>\n",
              "      <th>1456711</th>\n",
              "      <td>6251349</td>\n",
              "      <td>10508681</td>\n",
              "      <td>HZ250479</td>\n",
              "      <td>05/03/2016 12:15:00 AM</td>\n",
              "      <td>024XX W 63RD ST</td>\n",
              "      <td>041A</td>\n",
              "      <td>BATTERY</td>\n",
              "      <td>AGGRAVATED: HANDGUN</td>\n",
              "      <td>SIDEWALK</td>\n",
              "      <td>False</td>\n",
              "      <td>False</td>\n",
              "      <td>825</td>\n",
              "      <td>8.0</td>\n",
              "      <td>15.0</td>\n",
              "      <td>66.0</td>\n",
              "      <td>04B</td>\n",
              "      <td>1161027.0</td>\n",
              "      <td>1862810.0</td>\n",
              "      <td>2016</td>\n",
              "      <td>05/10/2016 03:56:50 PM</td>\n",
              "      <td>41.779235</td>\n",
              "      <td>-87.685207</td>\n",
              "      <td>(41.779234743, -87.685207125)</td>\n",
              "    </tr>\n",
              "    <tr>\n",
              "      <th>1456712</th>\n",
              "      <td>6253257</td>\n",
              "      <td>10508690</td>\n",
              "      <td>HZ250370</td>\n",
              "      <td>05/03/2016 09:07:00 PM</td>\n",
              "      <td>082XX S EXCHANGE AVE</td>\n",
              "      <td>0486</td>\n",
              "      <td>BATTERY</td>\n",
              "      <td>DOMESTIC BATTERY SIMPLE</td>\n",
              "      <td>SIDEWALK</td>\n",
              "      <td>False</td>\n",
              "      <td>True</td>\n",
              "      <td>423</td>\n",
              "      <td>4.0</td>\n",
              "      <td>7.0</td>\n",
              "      <td>46.0</td>\n",
              "      <td>08B</td>\n",
              "      <td>1197261.0</td>\n",
              "      <td>1850727.0</td>\n",
              "      <td>2016</td>\n",
              "      <td>05/10/2016 03:56:50 PM</td>\n",
              "      <td>41.745252</td>\n",
              "      <td>-87.552773</td>\n",
              "      <td>(41.745251975, -87.552773464)</td>\n",
              "    </tr>\n",
              "    <tr>\n",
              "      <th>1456713</th>\n",
              "      <td>6253474</td>\n",
              "      <td>10508692</td>\n",
              "      <td>HZ250517</td>\n",
              "      <td>05/03/2016 11:38:00 PM</td>\n",
              "      <td>001XX E 75TH ST</td>\n",
              "      <td>5007</td>\n",
              "      <td>OTHER OFFENSE</td>\n",
              "      <td>OTHER WEAPONS VIOLATION</td>\n",
              "      <td>PARKING LOT/GARAGE(NON.RESID.)</td>\n",
              "      <td>True</td>\n",
              "      <td>False</td>\n",
              "      <td>323</td>\n",
              "      <td>3.0</td>\n",
              "      <td>6.0</td>\n",
              "      <td>69.0</td>\n",
              "      <td>26</td>\n",
              "      <td>1178696.0</td>\n",
              "      <td>1855324.0</td>\n",
              "      <td>2016</td>\n",
              "      <td>05/10/2016 03:56:50 PM</td>\n",
              "      <td>41.758309</td>\n",
              "      <td>-87.620658</td>\n",
              "      <td>(41.75830866, -87.620658418)</td>\n",
              "    </tr>\n",
              "  </tbody>\n",
              "</table>\n",
              "<p>6017767 rows × 23 columns</p>\n",
              "</div>"
            ],
            "text/plain": [
              "         Unnamed: 0        ID  ...  Longitude                       Location\n",
              "0                 0   4673626  ... -87.771996  (41.981912692, -87.771996382)\n",
              "1                 1   4673627  ... -87.611920  (41.775732538, -87.611919814)\n",
              "2                 2   4673628  ... -87.593671  (41.769897392, -87.593670899)\n",
              "3                 4   4673629  ... -87.780057  (41.942984005, -87.780056951)\n",
              "4                 5   4673630  ... -87.716745   (41.784210853, -87.71674491)\n",
              "...             ...       ...  ...        ...                            ...\n",
              "1456709     6250330  10508679  ... -87.691556   (41.849222028, -87.69155551)\n",
              "1456710     6251089  10508680  ... -87.633335   (41.760743949, -87.63333531)\n",
              "1456711     6251349  10508681  ... -87.685207  (41.779234743, -87.685207125)\n",
              "1456712     6253257  10508690  ... -87.552773  (41.745251975, -87.552773464)\n",
              "1456713     6253474  10508692  ... -87.620658   (41.75830866, -87.620658418)\n",
              "\n",
              "[6017767 rows x 23 columns]"
            ]
          },
          "metadata": {
            "tags": []
          },
          "execution_count": 6
        }
      ]
    },
    {
      "cell_type": "code",
      "metadata": {
        "id": "JBK7MtPTNdEb",
        "colab_type": "code",
        "colab": {
          "base_uri": "https://localhost:8080/",
          "height": 413
        },
        "outputId": "69280f22-5bc6-48c8-ff68-4e63009074d6"
      },
      "source": [
        "chicago_df.tail()"
      ],
      "execution_count": 7,
      "outputs": [
        {
          "output_type": "execute_result",
          "data": {
            "text/html": [
              "<div>\n",
              "<style scoped>\n",
              "    .dataframe tbody tr th:only-of-type {\n",
              "        vertical-align: middle;\n",
              "    }\n",
              "\n",
              "    .dataframe tbody tr th {\n",
              "        vertical-align: top;\n",
              "    }\n",
              "\n",
              "    .dataframe thead th {\n",
              "        text-align: right;\n",
              "    }\n",
              "</style>\n",
              "<table border=\"1\" class=\"dataframe\">\n",
              "  <thead>\n",
              "    <tr style=\"text-align: right;\">\n",
              "      <th></th>\n",
              "      <th>Unnamed: 0</th>\n",
              "      <th>ID</th>\n",
              "      <th>Case Number</th>\n",
              "      <th>Date</th>\n",
              "      <th>Block</th>\n",
              "      <th>IUCR</th>\n",
              "      <th>Primary Type</th>\n",
              "      <th>Description</th>\n",
              "      <th>Location Description</th>\n",
              "      <th>Arrest</th>\n",
              "      <th>Domestic</th>\n",
              "      <th>Beat</th>\n",
              "      <th>District</th>\n",
              "      <th>Ward</th>\n",
              "      <th>Community Area</th>\n",
              "      <th>FBI Code</th>\n",
              "      <th>X Coordinate</th>\n",
              "      <th>Y Coordinate</th>\n",
              "      <th>Year</th>\n",
              "      <th>Updated On</th>\n",
              "      <th>Latitude</th>\n",
              "      <th>Longitude</th>\n",
              "      <th>Location</th>\n",
              "    </tr>\n",
              "  </thead>\n",
              "  <tbody>\n",
              "    <tr>\n",
              "      <th>1456709</th>\n",
              "      <td>6250330</td>\n",
              "      <td>10508679</td>\n",
              "      <td>HZ250507</td>\n",
              "      <td>05/03/2016 11:33:00 PM</td>\n",
              "      <td>026XX W 23RD PL</td>\n",
              "      <td>0486</td>\n",
              "      <td>BATTERY</td>\n",
              "      <td>DOMESTIC BATTERY SIMPLE</td>\n",
              "      <td>APARTMENT</td>\n",
              "      <td>True</td>\n",
              "      <td>True</td>\n",
              "      <td>1034</td>\n",
              "      <td>10.0</td>\n",
              "      <td>28.0</td>\n",
              "      <td>30.0</td>\n",
              "      <td>08B</td>\n",
              "      <td>1159105.0</td>\n",
              "      <td>1888300.0</td>\n",
              "      <td>2016</td>\n",
              "      <td>05/10/2016 03:56:50 PM</td>\n",
              "      <td>41.849222</td>\n",
              "      <td>-87.691556</td>\n",
              "      <td>(41.849222028, -87.69155551)</td>\n",
              "    </tr>\n",
              "    <tr>\n",
              "      <th>1456710</th>\n",
              "      <td>6251089</td>\n",
              "      <td>10508680</td>\n",
              "      <td>HZ250491</td>\n",
              "      <td>05/03/2016 11:30:00 PM</td>\n",
              "      <td>073XX S HARVARD AVE</td>\n",
              "      <td>1310</td>\n",
              "      <td>CRIMINAL DAMAGE</td>\n",
              "      <td>TO PROPERTY</td>\n",
              "      <td>APARTMENT</td>\n",
              "      <td>True</td>\n",
              "      <td>True</td>\n",
              "      <td>731</td>\n",
              "      <td>7.0</td>\n",
              "      <td>17.0</td>\n",
              "      <td>69.0</td>\n",
              "      <td>14</td>\n",
              "      <td>1175230.0</td>\n",
              "      <td>1856183.0</td>\n",
              "      <td>2016</td>\n",
              "      <td>05/10/2016 03:56:50 PM</td>\n",
              "      <td>41.760744</td>\n",
              "      <td>-87.633335</td>\n",
              "      <td>(41.760743949, -87.63333531)</td>\n",
              "    </tr>\n",
              "    <tr>\n",
              "      <th>1456711</th>\n",
              "      <td>6251349</td>\n",
              "      <td>10508681</td>\n",
              "      <td>HZ250479</td>\n",
              "      <td>05/03/2016 12:15:00 AM</td>\n",
              "      <td>024XX W 63RD ST</td>\n",
              "      <td>041A</td>\n",
              "      <td>BATTERY</td>\n",
              "      <td>AGGRAVATED: HANDGUN</td>\n",
              "      <td>SIDEWALK</td>\n",
              "      <td>False</td>\n",
              "      <td>False</td>\n",
              "      <td>825</td>\n",
              "      <td>8.0</td>\n",
              "      <td>15.0</td>\n",
              "      <td>66.0</td>\n",
              "      <td>04B</td>\n",
              "      <td>1161027.0</td>\n",
              "      <td>1862810.0</td>\n",
              "      <td>2016</td>\n",
              "      <td>05/10/2016 03:56:50 PM</td>\n",
              "      <td>41.779235</td>\n",
              "      <td>-87.685207</td>\n",
              "      <td>(41.779234743, -87.685207125)</td>\n",
              "    </tr>\n",
              "    <tr>\n",
              "      <th>1456712</th>\n",
              "      <td>6253257</td>\n",
              "      <td>10508690</td>\n",
              "      <td>HZ250370</td>\n",
              "      <td>05/03/2016 09:07:00 PM</td>\n",
              "      <td>082XX S EXCHANGE AVE</td>\n",
              "      <td>0486</td>\n",
              "      <td>BATTERY</td>\n",
              "      <td>DOMESTIC BATTERY SIMPLE</td>\n",
              "      <td>SIDEWALK</td>\n",
              "      <td>False</td>\n",
              "      <td>True</td>\n",
              "      <td>423</td>\n",
              "      <td>4.0</td>\n",
              "      <td>7.0</td>\n",
              "      <td>46.0</td>\n",
              "      <td>08B</td>\n",
              "      <td>1197261.0</td>\n",
              "      <td>1850727.0</td>\n",
              "      <td>2016</td>\n",
              "      <td>05/10/2016 03:56:50 PM</td>\n",
              "      <td>41.745252</td>\n",
              "      <td>-87.552773</td>\n",
              "      <td>(41.745251975, -87.552773464)</td>\n",
              "    </tr>\n",
              "    <tr>\n",
              "      <th>1456713</th>\n",
              "      <td>6253474</td>\n",
              "      <td>10508692</td>\n",
              "      <td>HZ250517</td>\n",
              "      <td>05/03/2016 11:38:00 PM</td>\n",
              "      <td>001XX E 75TH ST</td>\n",
              "      <td>5007</td>\n",
              "      <td>OTHER OFFENSE</td>\n",
              "      <td>OTHER WEAPONS VIOLATION</td>\n",
              "      <td>PARKING LOT/GARAGE(NON.RESID.)</td>\n",
              "      <td>True</td>\n",
              "      <td>False</td>\n",
              "      <td>323</td>\n",
              "      <td>3.0</td>\n",
              "      <td>6.0</td>\n",
              "      <td>69.0</td>\n",
              "      <td>26</td>\n",
              "      <td>1178696.0</td>\n",
              "      <td>1855324.0</td>\n",
              "      <td>2016</td>\n",
              "      <td>05/10/2016 03:56:50 PM</td>\n",
              "      <td>41.758309</td>\n",
              "      <td>-87.620658</td>\n",
              "      <td>(41.75830866, -87.620658418)</td>\n",
              "    </tr>\n",
              "  </tbody>\n",
              "</table>\n",
              "</div>"
            ],
            "text/plain": [
              "         Unnamed: 0        ID  ...  Longitude                       Location\n",
              "1456709     6250330  10508679  ... -87.691556   (41.849222028, -87.69155551)\n",
              "1456710     6251089  10508680  ... -87.633335   (41.760743949, -87.63333531)\n",
              "1456711     6251349  10508681  ... -87.685207  (41.779234743, -87.685207125)\n",
              "1456712     6253257  10508690  ... -87.552773  (41.745251975, -87.552773464)\n",
              "1456713     6253474  10508692  ... -87.620658   (41.75830866, -87.620658418)\n",
              "\n",
              "[5 rows x 23 columns]"
            ]
          },
          "metadata": {
            "tags": []
          },
          "execution_count": 7
        }
      ]
    },
    {
      "cell_type": "code",
      "metadata": {
        "id": "3MPkQFZqNj9J",
        "colab_type": "code",
        "colab": {
          "base_uri": "https://localhost:8080/",
          "height": 503
        },
        "outputId": "09f8bae8-4b36-4335-bbbf-7ffb43962fd9"
      },
      "source": [
        "chicago_df.info()"
      ],
      "execution_count": 8,
      "outputs": [
        {
          "output_type": "stream",
          "text": [
            "<class 'pandas.core.frame.DataFrame'>\n",
            "Int64Index: 6017767 entries, 0 to 1456713\n",
            "Data columns (total 23 columns):\n",
            "Unnamed: 0              int64\n",
            "ID                      int64\n",
            "Case Number             object\n",
            "Date                    object\n",
            "Block                   object\n",
            "IUCR                    object\n",
            "Primary Type            object\n",
            "Description             object\n",
            "Location Description    object\n",
            "Arrest                  bool\n",
            "Domestic                bool\n",
            "Beat                    int64\n",
            "District                float64\n",
            "Ward                    float64\n",
            "Community Area          float64\n",
            "FBI Code                object\n",
            "X Coordinate            float64\n",
            "Y Coordinate            float64\n",
            "Year                    int64\n",
            "Updated On              object\n",
            "Latitude                float64\n",
            "Longitude               float64\n",
            "Location                object\n",
            "dtypes: bool(2), float64(7), int64(4), object(10)\n",
            "memory usage: 1021.5+ MB\n"
          ],
          "name": "stdout"
        }
      ]
    },
    {
      "cell_type": "code",
      "metadata": {
        "id": "LhrNGw6YNl6-",
        "colab_type": "code",
        "colab": {
          "base_uri": "https://localhost:8080/",
          "height": 433
        },
        "outputId": "bc58d170-22a5-441e-acad-37a610446a57"
      },
      "source": [
        "chicago_df.isnull().sum()"
      ],
      "execution_count": 9,
      "outputs": [
        {
          "output_type": "execute_result",
          "data": {
            "text/plain": [
              "Unnamed: 0                  0\n",
              "ID                          0\n",
              "Case Number                 7\n",
              "Date                        0\n",
              "Block                       0\n",
              "IUCR                        0\n",
              "Primary Type                0\n",
              "Description                 0\n",
              "Location Description     1974\n",
              "Arrest                      0\n",
              "Domestic                    0\n",
              "Beat                        0\n",
              "District                   89\n",
              "Ward                       92\n",
              "Community Area           1844\n",
              "FBI Code                    0\n",
              "X Coordinate            74882\n",
              "Y Coordinate            74882\n",
              "Year                        0\n",
              "Updated On                  0\n",
              "Latitude                74882\n",
              "Longitude               74882\n",
              "Location                74882\n",
              "dtype: int64"
            ]
          },
          "metadata": {
            "tags": []
          },
          "execution_count": 9
        }
      ]
    },
    {
      "cell_type": "code",
      "metadata": {
        "id": "lykAgg1hNqZA",
        "colab_type": "code",
        "colab": {
          "base_uri": "https://localhost:8080/",
          "height": 723
        },
        "outputId": "1f6dcb8e-1645-4dcb-e190-2dfeeb3a7b2f"
      },
      "source": [
        "plt.figure(figsize=(10,10))\n",
        "sns.heatmap(chicago_df.isnull(), cbar = False, cmap = 'YlGnBu')"
      ],
      "execution_count": 10,
      "outputs": [
        {
          "output_type": "stream",
          "text": [
            "INFO:numexpr.utils:NumExpr defaulting to 4 threads.\n"
          ],
          "name": "stderr"
        },
        {
          "output_type": "execute_result",
          "data": {
            "text/plain": [
              "<matplotlib.axes._subplots.AxesSubplot at 0x7fe74883a748>"
            ]
          },
          "metadata": {
            "tags": []
          },
          "execution_count": 10
        },
        {
          "output_type": "display_data",
          "data": {
            "image/png": "[encoded data removed]",
            "text/plain": [
              "<Figure size 720x720 with 1 Axes>"
            ]
          },
          "metadata": {
            "tags": []
          }
        }
      ]
    },
    {
      "cell_type": "code",
      "metadata": {
        "id": "MLqj9XYzNulF",
        "colab_type": "code",
        "colab": {}
      },
      "source": [
        "chicago_df.drop(['Unnamed: 0', 'Case Number', 'Case Number', 'IUCR', 'X Coordinate', 'Y Coordinate','Updated On','Year', 'FBI Code', 'Beat','Ward','Community Area', 'Location', 'District', 'Latitude' , 'Longitude'], inplace=True, axis=1)"
      ],
      "execution_count": 0,
      "outputs": []
    },
    {
      "cell_type": "code",
      "metadata": {
        "id": "sa8pSX_LQv4M",
        "colab_type": "code",
        "colab": {
          "base_uri": "https://localhost:8080/",
          "height": 589
        },
        "outputId": "9116f2d8-3436-4b3c-8a10-23d8adbe66c8"
      },
      "source": [
        "chicago_df"
      ],
      "execution_count": 12,
      "outputs": [
        {
          "output_type": "execute_result",
          "data": {
            "text/html": [
              "<div>\n",
              "<style scoped>\n",
              "    .dataframe tbody tr th:only-of-type {\n",
              "        vertical-align: middle;\n",
              "    }\n",
              "\n",
              "    .dataframe tbody tr th {\n",
              "        vertical-align: top;\n",
              "    }\n",
              "\n",
              "    .dataframe thead th {\n",
              "        text-align: right;\n",
              "    }\n",
              "</style>\n",
              "<table border=\"1\" class=\"dataframe\">\n",
              "  <thead>\n",
              "    <tr style=\"text-align: right;\">\n",
              "      <th></th>\n",
              "      <th>ID</th>\n",
              "      <th>Date</th>\n",
              "      <th>Block</th>\n",
              "      <th>Primary Type</th>\n",
              "      <th>Description</th>\n",
              "      <th>Location Description</th>\n",
              "      <th>Arrest</th>\n",
              "      <th>Domestic</th>\n",
              "    </tr>\n",
              "  </thead>\n",
              "  <tbody>\n",
              "    <tr>\n",
              "      <th>0</th>\n",
              "      <td>4673626</td>\n",
              "      <td>04/02/2006 01:00:00 PM</td>\n",
              "      <td>055XX N MANGO AVE</td>\n",
              "      <td>OTHER OFFENSE</td>\n",
              "      <td>HARASSMENT BY TELEPHONE</td>\n",
              "      <td>RESIDENCE</td>\n",
              "      <td>False</td>\n",
              "      <td>False</td>\n",
              "    </tr>\n",
              "    <tr>\n",
              "      <th>1</th>\n",
              "      <td>4673627</td>\n",
              "      <td>02/26/2006 01:40:48 PM</td>\n",
              "      <td>065XX S RHODES AVE</td>\n",
              "      <td>NARCOTICS</td>\n",
              "      <td>MANU/DELIVER:CRACK</td>\n",
              "      <td>SIDEWALK</td>\n",
              "      <td>True</td>\n",
              "      <td>False</td>\n",
              "    </tr>\n",
              "    <tr>\n",
              "      <th>2</th>\n",
              "      <td>4673628</td>\n",
              "      <td>01/08/2006 11:16:00 PM</td>\n",
              "      <td>013XX E 69TH ST</td>\n",
              "      <td>ASSAULT</td>\n",
              "      <td>AGGRAVATED: HANDGUN</td>\n",
              "      <td>OTHER</td>\n",
              "      <td>False</td>\n",
              "      <td>False</td>\n",
              "    </tr>\n",
              "    <tr>\n",
              "      <th>3</th>\n",
              "      <td>4673629</td>\n",
              "      <td>04/05/2006 06:45:00 PM</td>\n",
              "      <td>061XX W NEWPORT AVE</td>\n",
              "      <td>BATTERY</td>\n",
              "      <td>SIMPLE</td>\n",
              "      <td>RESIDENCE</td>\n",
              "      <td>False</td>\n",
              "      <td>False</td>\n",
              "    </tr>\n",
              "    <tr>\n",
              "      <th>4</th>\n",
              "      <td>4673630</td>\n",
              "      <td>02/17/2006 09:03:14 PM</td>\n",
              "      <td>037XX W 60TH ST</td>\n",
              "      <td>NARCOTICS</td>\n",
              "      <td>POSS: CANNABIS 30GMS OR LESS</td>\n",
              "      <td>ALLEY</td>\n",
              "      <td>True</td>\n",
              "      <td>False</td>\n",
              "    </tr>\n",
              "    <tr>\n",
              "      <th>...</th>\n",
              "      <td>...</td>\n",
              "      <td>...</td>\n",
              "      <td>...</td>\n",
              "      <td>...</td>\n",
              "      <td>...</td>\n",
              "      <td>...</td>\n",
              "      <td>...</td>\n",
              "      <td>...</td>\n",
              "    </tr>\n",
              "    <tr>\n",
              "      <th>1456709</th>\n",
              "      <td>10508679</td>\n",
              "      <td>05/03/2016 11:33:00 PM</td>\n",
              "      <td>026XX W 23RD PL</td>\n",
              "      <td>BATTERY</td>\n",
              "      <td>DOMESTIC BATTERY SIMPLE</td>\n",
              "      <td>APARTMENT</td>\n",
              "      <td>True</td>\n",
              "      <td>True</td>\n",
              "    </tr>\n",
              "    <tr>\n",
              "      <th>1456710</th>\n",
              "      <td>10508680</td>\n",
              "      <td>05/03/2016 11:30:00 PM</td>\n",
              "      <td>073XX S HARVARD AVE</td>\n",
              "      <td>CRIMINAL DAMAGE</td>\n",
              "      <td>TO PROPERTY</td>\n",
              "      <td>APARTMENT</td>\n",
              "      <td>True</td>\n",
              "      <td>True</td>\n",
              "    </tr>\n",
              "    <tr>\n",
              "      <th>1456711</th>\n",
              "      <td>10508681</td>\n",
              "      <td>05/03/2016 12:15:00 AM</td>\n",
              "      <td>024XX W 63RD ST</td>\n",
              "      <td>BATTERY</td>\n",
              "      <td>AGGRAVATED: HANDGUN</td>\n",
              "      <td>SIDEWALK</td>\n",
              "      <td>False</td>\n",
              "      <td>False</td>\n",
              "    </tr>\n",
              "    <tr>\n",
              "      <th>1456712</th>\n",
              "      <td>10508690</td>\n",
              "      <td>05/03/2016 09:07:00 PM</td>\n",
              "      <td>082XX S EXCHANGE AVE</td>\n",
              "      <td>BATTERY</td>\n",
              "      <td>DOMESTIC BATTERY SIMPLE</td>\n",
              "      <td>SIDEWALK</td>\n",
              "      <td>False</td>\n",
              "      <td>True</td>\n",
              "    </tr>\n",
              "    <tr>\n",
              "      <th>1456713</th>\n",
              "      <td>10508692</td>\n",
              "      <td>05/03/2016 11:38:00 PM</td>\n",
              "      <td>001XX E 75TH ST</td>\n",
              "      <td>OTHER OFFENSE</td>\n",
              "      <td>OTHER WEAPONS VIOLATION</td>\n",
              "      <td>PARKING LOT/GARAGE(NON.RESID.)</td>\n",
              "      <td>True</td>\n",
              "      <td>False</td>\n",
              "    </tr>\n",
              "  </tbody>\n",
              "</table>\n",
              "<p>6017767 rows × 8 columns</p>\n",
              "</div>"
            ],
            "text/plain": [
              "               ID                    Date  ... Arrest Domestic\n",
              "0         4673626  04/02/2006 01:00:00 PM  ...  False    False\n",
              "1         4673627  02/26/2006 01:40:48 PM  ...   True    False\n",
              "2         4673628  01/08/2006 11:16:00 PM  ...  False    False\n",
              "3         4673629  04/05/2006 06:45:00 PM  ...  False    False\n",
              "4         4673630  02/17/2006 09:03:14 PM  ...   True    False\n",
              "...           ...                     ...  ...    ...      ...\n",
              "1456709  10508679  05/03/2016 11:33:00 PM  ...   True     True\n",
              "1456710  10508680  05/03/2016 11:30:00 PM  ...   True     True\n",
              "1456711  10508681  05/03/2016 12:15:00 AM  ...  False    False\n",
              "1456712  10508690  05/03/2016 09:07:00 PM  ...  False     True\n",
              "1456713  10508692  05/03/2016 11:38:00 PM  ...   True    False\n",
              "\n",
              "[6017767 rows x 8 columns]"
            ]
          },
          "metadata": {
            "tags": []
          },
          "execution_count": 12
        }
      ]
    },
    {
      "cell_type": "code",
      "metadata": {
        "id": "r96OgV3WQxaf",
        "colab_type": "code",
        "colab": {}
      },
      "source": [
        "# setting the index to be the date \n",
        "chicago_df.index = pd.DatetimeIndex(chicago_df.Date)\n"
      ],
      "execution_count": 0,
      "outputs": []
    },
    {
      "cell_type": "code",
      "metadata": {
        "id": "DFg8cz3XQ4dk",
        "colab_type": "code",
        "colab": {
          "base_uri": "https://localhost:8080/",
          "height": 619
        },
        "outputId": "d1729c59-785a-44f2-e525-891cd62338a6"
      },
      "source": [
        "chicago_df"
      ],
      "execution_count": 14,
      "outputs": [
        {
          "output_type": "execute_result",
          "data": {
            "text/html": [
              "<div>\n",
              "<style scoped>\n",
              "    .dataframe tbody tr th:only-of-type {\n",
              "        vertical-align: middle;\n",
              "    }\n",
              "\n",
              "    .dataframe tbody tr th {\n",
              "        vertical-align: top;\n",
              "    }\n",
              "\n",
              "    .dataframe thead th {\n",
              "        text-align: right;\n",
              "    }\n",
              "</style>\n",
              "<table border=\"1\" class=\"dataframe\">\n",
              "  <thead>\n",
              "    <tr style=\"text-align: right;\">\n",
              "      <th></th>\n",
              "      <th>ID</th>\n",
              "      <th>Date</th>\n",
              "      <th>Block</th>\n",
              "      <th>Primary Type</th>\n",
              "      <th>Description</th>\n",
              "      <th>Location Description</th>\n",
              "      <th>Arrest</th>\n",
              "      <th>Domestic</th>\n",
              "    </tr>\n",
              "    <tr>\n",
              "      <th>Date</th>\n",
              "      <th></th>\n",
              "      <th></th>\n",
              "      <th></th>\n",
              "      <th></th>\n",
              "      <th></th>\n",
              "      <th></th>\n",
              "      <th></th>\n",
              "      <th></th>\n",
              "    </tr>\n",
              "  </thead>\n",
              "  <tbody>\n",
              "    <tr>\n",
              "      <th>2006-04-02 13:00:00</th>\n",
              "      <td>4673626</td>\n",
              "      <td>04/02/2006 01:00:00 PM</td>\n",
              "      <td>055XX N MANGO AVE</td>\n",
              "      <td>OTHER OFFENSE</td>\n",
              "      <td>HARASSMENT BY TELEPHONE</td>\n",
              "      <td>RESIDENCE</td>\n",
              "      <td>False</td>\n",
              "      <td>False</td>\n",
              "    </tr>\n",
              "    <tr>\n",
              "      <th>2006-02-26 13:40:48</th>\n",
              "      <td>4673627</td>\n",
              "      <td>02/26/2006 01:40:48 PM</td>\n",
              "      <td>065XX S RHODES AVE</td>\n",
              "      <td>NARCOTICS</td>\n",
              "      <td>MANU/DELIVER:CRACK</td>\n",
              "      <td>SIDEWALK</td>\n",
              "      <td>True</td>\n",
              "      <td>False</td>\n",
              "    </tr>\n",
              "    <tr>\n",
              "      <th>2006-01-08 23:16:00</th>\n",
              "      <td>4673628</td>\n",
              "      <td>01/08/2006 11:16:00 PM</td>\n",
              "      <td>013XX E 69TH ST</td>\n",
              "      <td>ASSAULT</td>\n",
              "      <td>AGGRAVATED: HANDGUN</td>\n",
              "      <td>OTHER</td>\n",
              "      <td>False</td>\n",
              "      <td>False</td>\n",
              "    </tr>\n",
              "    <tr>\n",
              "      <th>2006-04-05 18:45:00</th>\n",
              "      <td>4673629</td>\n",
              "      <td>04/05/2006 06:45:00 PM</td>\n",
              "      <td>061XX W NEWPORT AVE</td>\n",
              "      <td>BATTERY</td>\n",
              "      <td>SIMPLE</td>\n",
              "      <td>RESIDENCE</td>\n",
              "      <td>False</td>\n",
              "      <td>False</td>\n",
              "    </tr>\n",
              "    <tr>\n",
              "      <th>2006-02-17 21:03:14</th>\n",
              "      <td>4673630</td>\n",
              "      <td>02/17/2006 09:03:14 PM</td>\n",
              "      <td>037XX W 60TH ST</td>\n",
              "      <td>NARCOTICS</td>\n",
              "      <td>POSS: CANNABIS 30GMS OR LESS</td>\n",
              "      <td>ALLEY</td>\n",
              "      <td>True</td>\n",
              "      <td>False</td>\n",
              "    </tr>\n",
              "    <tr>\n",
              "      <th>...</th>\n",
              "      <td>...</td>\n",
              "      <td>...</td>\n",
              "      <td>...</td>\n",
              "      <td>...</td>\n",
              "      <td>...</td>\n",
              "      <td>...</td>\n",
              "      <td>...</td>\n",
              "      <td>...</td>\n",
              "    </tr>\n",
              "    <tr>\n",
              "      <th>2016-05-03 23:33:00</th>\n",
              "      <td>10508679</td>\n",
              "      <td>05/03/2016 11:33:00 PM</td>\n",
              "      <td>026XX W 23RD PL</td>\n",
              "      <td>BATTERY</td>\n",
              "      <td>DOMESTIC BATTERY SIMPLE</td>\n",
              "      <td>APARTMENT</td>\n",
              "      <td>True</td>\n",
              "      <td>True</td>\n",
              "    </tr>\n",
              "    <tr>\n",
              "      <th>2016-05-03 23:30:00</th>\n",
              "      <td>10508680</td>\n",
              "      <td>05/03/2016 11:30:00 PM</td>\n",
              "      <td>073XX S HARVARD AVE</td>\n",
              "      <td>CRIMINAL DAMAGE</td>\n",
              "      <td>TO PROPERTY</td>\n",
              "      <td>APARTMENT</td>\n",
              "      <td>True</td>\n",
              "      <td>True</td>\n",
              "    </tr>\n",
              "    <tr>\n",
              "      <th>2016-05-03 00:15:00</th>\n",
              "      <td>10508681</td>\n",
              "      <td>05/03/2016 12:15:00 AM</td>\n",
              "      <td>024XX W 63RD ST</td>\n",
              "      <td>BATTERY</td>\n",
              "      <td>AGGRAVATED: HANDGUN</td>\n",
              "      <td>SIDEWALK</td>\n",
              "      <td>False</td>\n",
              "      <td>False</td>\n",
              "    </tr>\n",
              "    <tr>\n",
              "      <th>2016-05-03 21:07:00</th>\n",
              "      <td>10508690</td>\n",
              "      <td>05/03/2016 09:07:00 PM</td>\n",
              "      <td>082XX S EXCHANGE AVE</td>\n",
              "      <td>BATTERY</td>\n",
              "      <td>DOMESTIC BATTERY SIMPLE</td>\n",
              "      <td>SIDEWALK</td>\n",
              "      <td>False</td>\n",
              "      <td>True</td>\n",
              "    </tr>\n",
              "    <tr>\n",
              "      <th>2016-05-03 23:38:00</th>\n",
              "      <td>10508692</td>\n",
              "      <td>05/03/2016 11:38:00 PM</td>\n",
              "      <td>001XX E 75TH ST</td>\n",
              "      <td>OTHER OFFENSE</td>\n",
              "      <td>OTHER WEAPONS VIOLATION</td>\n",
              "      <td>PARKING LOT/GARAGE(NON.RESID.)</td>\n",
              "      <td>True</td>\n",
              "      <td>False</td>\n",
              "    </tr>\n",
              "  </tbody>\n",
              "</table>\n",
              "<p>6017767 rows × 8 columns</p>\n",
              "</div>"
            ],
            "text/plain": [
              "                           ID                    Date  ... Arrest Domestic\n",
              "Date                                                   ...                \n",
              "2006-04-02 13:00:00   4673626  04/02/2006 01:00:00 PM  ...  False    False\n",
              "2006-02-26 13:40:48   4673627  02/26/2006 01:40:48 PM  ...   True    False\n",
              "2006-01-08 23:16:00   4673628  01/08/2006 11:16:00 PM  ...  False    False\n",
              "2006-04-05 18:45:00   4673629  04/05/2006 06:45:00 PM  ...  False    False\n",
              "2006-02-17 21:03:14   4673630  02/17/2006 09:03:14 PM  ...   True    False\n",
              "...                       ...                     ...  ...    ...      ...\n",
              "2016-05-03 23:33:00  10508679  05/03/2016 11:33:00 PM  ...   True     True\n",
              "2016-05-03 23:30:00  10508680  05/03/2016 11:30:00 PM  ...   True     True\n",
              "2016-05-03 00:15:00  10508681  05/03/2016 12:15:00 AM  ...  False    False\n",
              "2016-05-03 21:07:00  10508690  05/03/2016 09:07:00 PM  ...  False     True\n",
              "2016-05-03 23:38:00  10508692  05/03/2016 11:38:00 PM  ...   True    False\n",
              "\n",
              "[6017767 rows x 8 columns]"
            ]
          },
          "metadata": {
            "tags": []
          },
          "execution_count": 14
        }
      ]
    },
    {
      "cell_type": "code",
      "metadata": {
        "id": "a5qJanU6VHZi",
        "colab_type": "code",
        "colab": {
          "base_uri": "https://localhost:8080/",
          "height": 624
        },
        "outputId": "1d0b8015-b7b9-428a-9952-5b402b3b0947"
      },
      "source": [
        "chicago_df['Primary Type'].value_counts()"
      ],
      "execution_count": 15,
      "outputs": [
        {
          "output_type": "execute_result",
          "data": {
            "text/plain": [
              "THEFT                                1245111\n",
              "BATTERY                              1079178\n",
              "CRIMINAL DAMAGE                       702702\n",
              "NARCOTICS                             674831\n",
              "BURGLARY                              369056\n",
              "OTHER OFFENSE                         368169\n",
              "ASSAULT                               360244\n",
              "MOTOR VEHICLE THEFT                   271624\n",
              "ROBBERY                               229467\n",
              "DECEPTIVE PRACTICE                    225180\n",
              "CRIMINAL TRESPASS                     171596\n",
              "PROSTITUTION                           60735\n",
              "WEAPONS VIOLATION                      60335\n",
              "PUBLIC PEACE VIOLATION                 48403\n",
              "OFFENSE INVOLVING CHILDREN             40260\n",
              "CRIM SEXUAL ASSAULT                    22789\n",
              "SEX OFFENSE                            20172\n",
              "GAMBLING                               14755\n",
              "INTERFERENCE WITH PUBLIC OFFICER       14009\n",
              "LIQUOR LAW VIOLATION                   12129\n",
              "ARSON                                   9269\n",
              "HOMICIDE                                5879\n",
              "KIDNAPPING                              4734\n",
              "INTIMIDATION                            3324\n",
              "STALKING                                2866\n",
              "OBSCENITY                                422\n",
              "PUBLIC INDECENCY                         134\n",
              "OTHER NARCOTIC VIOLATION                 122\n",
              "NON-CRIMINAL                              96\n",
              "CONCEALED CARRY LICENSE VIOLATION         90\n",
              "NON - CRIMINAL                            38\n",
              "HUMAN TRAFFICKING                         28\n",
              "RITUALISM                                 16\n",
              "NON-CRIMINAL (SUBJECT SPECIFIED)           4\n",
              "Name: Primary Type, dtype: int64"
            ]
          },
          "metadata": {
            "tags": []
          },
          "execution_count": 15
        }
      ]
    },
    {
      "cell_type": "code",
      "metadata": {
        "id": "sX4gXGB7VN1W",
        "colab_type": "code",
        "colab": {
          "base_uri": "https://localhost:8080/",
          "height": 121
        },
        "outputId": "f158a944-79f5-4924-c153-cb2ca162cfe2"
      },
      "source": [
        "chicago_df['Primary Type'].value_counts().iloc[:15].index"
      ],
      "execution_count": 16,
      "outputs": [
        {
          "output_type": "execute_result",
          "data": {
            "text/plain": [
              "Index(['THEFT', 'BATTERY', 'CRIMINAL DAMAGE', 'NARCOTICS', 'BURGLARY',\n",
              "       'OTHER OFFENSE', 'ASSAULT', 'MOTOR VEHICLE THEFT', 'ROBBERY',\n",
              "       'DECEPTIVE PRACTICE', 'CRIMINAL TRESPASS', 'PROSTITUTION',\n",
              "       'WEAPONS VIOLATION', 'PUBLIC PEACE VIOLATION',\n",
              "       'OFFENSE INVOLVING CHILDREN'],\n",
              "      dtype='object')"
            ]
          },
          "metadata": {
            "tags": []
          },
          "execution_count": 16
        }
      ]
    },
    {
      "cell_type": "code",
      "metadata": {
        "id": "dJUqtIIVVW-l",
        "colab_type": "code",
        "colab": {
          "base_uri": "https://localhost:8080/",
          "height": 623
        },
        "outputId": "938fa107-fc51-4998-9fdc-37f08a15694c"
      },
      "source": [
        "plt.figure(figsize = (15, 10))\n",
        "sns.countplot(y= 'Primary Type', data = chicago_df, order = chicago_df['Primary Type'].value_counts().iloc[:15].index)"
      ],
      "execution_count": 17,
      "outputs": [
        {
          "output_type": "execute_result",
          "data": {
            "text/plain": [
              "<matplotlib.axes._subplots.AxesSubplot at 0x7fe7444ed2e8>"
            ]
          },
          "metadata": {
            "tags": []
          },
          "execution_count": 17
        },
        {
          "output_type": "display_data",
          "data": {
            "image/png": "[encoded data removed]",
            "text/plain": [
              "<Figure size 1080x720 with 1 Axes>"
            ]
          },
          "metadata": {
            "tags": []
          }
        }
      ]
    },
    {
      "cell_type": "code",
      "metadata": {
        "id": "jYyi3MkxVcMX",
        "colab_type": "code",
        "colab": {
          "base_uri": "https://localhost:8080/",
          "height": 623
        },
        "outputId": "5222e496-7796-4756-92ca-7a0a829251c7"
      },
      "source": [
        "plt.figure(figsize = (15, 10))\n",
        "sns.countplot(y= 'Location Description', data = chicago_df, order = chicago_df['Location Description'].value_counts().iloc[:15].index)"
      ],
      "execution_count": 18,
      "outputs": [
        {
          "output_type": "execute_result",
          "data": {
            "text/plain": [
              "<matplotlib.axes._subplots.AxesSubplot at 0x7fe743f41b00>"
            ]
          },
          "metadata": {
            "tags": []
          },
          "execution_count": 18
        },
        {
          "output_type": "display_data",
          "data": {
            "image/png": "[encoded data removed]",
            "text/plain": [
              "<Figure size 1080x720 with 1 Axes>"
            ]
          },
          "metadata": {
            "tags": []
          }
        }
      ]
    },
    {
      "cell_type": "code",
      "metadata": {
        "id": "HSYX9tm_WbOT",
        "colab_type": "code",
        "colab": {
          "base_uri": "https://localhost:8080/",
          "height": 277
        },
        "outputId": "0e202d87-e124-49dd-c68a-2364e3b9e3e1"
      },
      "source": [
        "chicago_df.resample('Y').size()"
      ],
      "execution_count": 19,
      "outputs": [
        {
          "output_type": "execute_result",
          "data": {
            "text/plain": [
              "Date\n",
              "2005-12-31    455811\n",
              "2006-12-31    794684\n",
              "2007-12-31    621848\n",
              "2008-12-31    852053\n",
              "2009-12-31    783900\n",
              "2010-12-31    700691\n",
              "2011-12-31    352066\n",
              "2012-12-31    335670\n",
              "2013-12-31    306703\n",
              "2014-12-31    274527\n",
              "2015-12-31    262995\n",
              "2016-12-31    265462\n",
              "2017-12-31     11357\n",
              "Freq: A-DEC, dtype: int64"
            ]
          },
          "metadata": {
            "tags": []
          },
          "execution_count": 19
        }
      ]
    },
    {
      "cell_type": "code",
      "metadata": {
        "id": "E5N52yrlWfdN",
        "colab_type": "code",
        "colab": {
          "base_uri": "https://localhost:8080/",
          "height": 313
        },
        "outputId": "c7caef60-19de-4576-f8c2-38e8251b56db"
      },
      "source": [
        "plt.plot(chicago_df.resample('Y').size())\n",
        "plt.title('Crimes Count Per Year')\n",
        "plt.xlabel('Years')\n",
        "plt.ylabel('Number of Crimes')"
      ],
      "execution_count": 20,
      "outputs": [
        {
          "output_type": "execute_result",
          "data": {
            "text/plain": [
              "Text(0, 0.5, 'Number of Crimes')"
            ]
          },
          "metadata": {
            "tags": []
          },
          "execution_count": 20
        },
        {
          "output_type": "display_data",
          "data": {
            "image/png": "[encoded data removed]",
            "text/plain": [
              "<Figure size 432x288 with 1 Axes>"
            ]
          },
          "metadata": {
            "tags": []
          }
        }
      ]
    },
    {
      "cell_type": "code",
      "metadata": {
        "id": "DAgPq1K1WjkB",
        "colab_type": "code",
        "colab": {
          "base_uri": "https://localhost:8080/",
          "height": 243
        },
        "outputId": "699650a5-5860-4d0c-dc17-08ab88ca7216"
      },
      "source": [
        "chicago_df.resample('M').size()"
      ],
      "execution_count": 21,
      "outputs": [
        {
          "output_type": "execute_result",
          "data": {
            "text/plain": [
              "Date\n",
              "2005-01-31    33983\n",
              "2005-02-28    32042\n",
              "2005-03-31    36970\n",
              "2005-04-30    38963\n",
              "2005-05-31    40572\n",
              "              ...  \n",
              "2016-09-30    23235\n",
              "2016-10-31    23314\n",
              "2016-11-30    21140\n",
              "2016-12-31    19580\n",
              "2017-01-31    11357\n",
              "Freq: M, Length: 145, dtype: int64"
            ]
          },
          "metadata": {
            "tags": []
          },
          "execution_count": 21
        }
      ]
    },
    {
      "cell_type": "code",
      "metadata": {
        "id": "QxFqjTP1WqLY",
        "colab_type": "code",
        "colab": {
          "base_uri": "https://localhost:8080/",
          "height": 313
        },
        "outputId": "5fbac1c8-b706-41ce-e1e4-ab2dc5e27f55"
      },
      "source": [
        "plt.plot(chicago_df.resample('M').size())\n",
        "plt.title('Crimes Count Per Month')\n",
        "plt.xlabel('Months')\n",
        "plt.ylabel('Number of Crimes')"
      ],
      "execution_count": 22,
      "outputs": [
        {
          "output_type": "execute_result",
          "data": {
            "text/plain": [
              "Text(0, 0.5, 'Number of Crimes')"
            ]
          },
          "metadata": {
            "tags": []
          },
          "execution_count": 22
        },
        {
          "output_type": "display_data",
          "data": {
            "image/png": "[encoded data removed]",
            "text/plain": [
              "<Figure size 432x288 with 1 Axes>"
            ]
          },
          "metadata": {
            "tags": []
          }
        }
      ]
    },
    {
      "cell_type": "code",
      "metadata": {
        "id": "uHYnhP7FWzpk",
        "colab_type": "code",
        "colab": {
          "base_uri": "https://localhost:8080/",
          "height": 901
        },
        "outputId": "8b4c34ee-46a4-4009-a5b7-b28ab906c751"
      },
      "source": [
        "chicago_df.resample('Q').size()"
      ],
      "execution_count": 23,
      "outputs": [
        {
          "output_type": "execute_result",
          "data": {
            "text/plain": [
              "Date\n",
              "2005-03-31    102995\n",
              "2005-06-30    119769\n",
              "2005-09-30    123550\n",
              "2005-12-31    109497\n",
              "2006-03-31    115389\n",
              "2006-06-30    225489\n",
              "2006-09-30    238423\n",
              "2006-12-31    215383\n",
              "2007-03-31    192791\n",
              "2007-06-30    204361\n",
              "2007-09-30    119086\n",
              "2007-12-31    105610\n",
              "2008-03-31    191523\n",
              "2008-06-30    222331\n",
              "2008-09-30    236695\n",
              "2008-12-31    201504\n",
              "2009-03-31    184055\n",
              "2009-06-30    203916\n",
              "2009-09-30    210446\n",
              "2009-12-31    185483\n",
              "2010-03-31    171848\n",
              "2010-06-30    194453\n",
              "2010-09-30    197116\n",
              "2010-12-31    137274\n",
              "2011-03-31     78167\n",
              "2011-06-30     93064\n",
              "2011-09-30     95835\n",
              "2011-12-31     85000\n",
              "2012-03-31     78574\n",
              "2012-06-30     88283\n",
              "2012-09-30     89685\n",
              "2012-12-31     79128\n",
              "2013-03-31     71651\n",
              "2013-06-30     80776\n",
              "2013-09-30     83510\n",
              "2013-12-31     70766\n",
              "2014-03-31     59964\n",
              "2014-06-30     72991\n",
              "2014-09-30     76090\n",
              "2014-12-31     65482\n",
              "2015-03-31     58503\n",
              "2015-06-30     68239\n",
              "2015-09-30     71782\n",
              "2015-12-31     64471\n",
              "2016-03-31     60843\n",
              "2016-06-30     68085\n",
              "2016-09-30     72500\n",
              "2016-12-31     64034\n",
              "2017-03-31     11357\n",
              "Freq: Q-DEC, dtype: int64"
            ]
          },
          "metadata": {
            "tags": []
          },
          "execution_count": 23
        }
      ]
    },
    {
      "cell_type": "code",
      "metadata": {
        "id": "2QNAK62CW4Ul",
        "colab_type": "code",
        "colab": {
          "base_uri": "https://localhost:8080/",
          "height": 313
        },
        "outputId": "117e30bf-b6b4-4e52-e72b-2a3abcec2d44"
      },
      "source": [
        "plt.plot(chicago_df.resample('Q').size())\n",
        "plt.title('Crimes Count Per Quarter')\n",
        "plt.xlabel('Quarters')\n",
        "plt.ylabel('Number of Crimes')"
      ],
      "execution_count": 24,
      "outputs": [
        {
          "output_type": "execute_result",
          "data": {
            "text/plain": [
              "Text(0, 0.5, 'Number of Crimes')"
            ]
          },
          "metadata": {
            "tags": []
          },
          "execution_count": 24
        },
        {
          "output_type": "display_data",
          "data": {
            "image/png": "[encoded data removed]",
            "text/plain": [
              "<Figure size 432x288 with 1 Axes>"
            ]
          },
          "metadata": {
            "tags": []
          }
        }
      ]
    },
    {
      "cell_type": "code",
      "metadata": {
        "id": "uXb9X-ShW7x-",
        "colab_type": "code",
        "colab": {}
      },
      "source": [
        "chicago_prophet = chicago_df.resample('M').size().reset_index()"
      ],
      "execution_count": 0,
      "outputs": []
    },
    {
      "cell_type": "code",
      "metadata": {
        "id": "PqsXiDFWW_je",
        "colab_type": "code",
        "colab": {
          "base_uri": "https://localhost:8080/",
          "height": 415
        },
        "outputId": "30673929-02e9-4662-b168-7086d8d37b5d"
      },
      "source": [
        "chicago_prophet"
      ],
      "execution_count": 26,
      "outputs": [
        {
          "output_type": "execute_result",
          "data": {
            "text/html": [
              "<div>\n",
              "<style scoped>\n",
              "    .dataframe tbody tr th:only-of-type {\n",
              "        vertical-align: middle;\n",
              "    }\n",
              "\n",
              "    .dataframe tbody tr th {\n",
              "        vertical-align: top;\n",
              "    }\n",
              "\n",
              "    .dataframe thead th {\n",
              "        text-align: right;\n",
              "    }\n",
              "</style>\n",
              "<table border=\"1\" class=\"dataframe\">\n",
              "  <thead>\n",
              "    <tr style=\"text-align: right;\">\n",
              "      <th></th>\n",
              "      <th>Date</th>\n",
              "      <th>0</th>\n",
              "    </tr>\n",
              "  </thead>\n",
              "  <tbody>\n",
              "    <tr>\n",
              "      <th>0</th>\n",
              "      <td>2005-01-31</td>\n",
              "      <td>33983</td>\n",
              "    </tr>\n",
              "    <tr>\n",
              "      <th>1</th>\n",
              "      <td>2005-02-28</td>\n",
              "      <td>32042</td>\n",
              "    </tr>\n",
              "    <tr>\n",
              "      <th>2</th>\n",
              "      <td>2005-03-31</td>\n",
              "      <td>36970</td>\n",
              "    </tr>\n",
              "    <tr>\n",
              "      <th>3</th>\n",
              "      <td>2005-04-30</td>\n",
              "      <td>38963</td>\n",
              "    </tr>\n",
              "    <tr>\n",
              "      <th>4</th>\n",
              "      <td>2005-05-31</td>\n",
              "      <td>40572</td>\n",
              "    </tr>\n",
              "    <tr>\n",
              "      <th>...</th>\n",
              "      <td>...</td>\n",
              "      <td>...</td>\n",
              "    </tr>\n",
              "    <tr>\n",
              "      <th>140</th>\n",
              "      <td>2016-09-30</td>\n",
              "      <td>23235</td>\n",
              "    </tr>\n",
              "    <tr>\n",
              "      <th>141</th>\n",
              "      <td>2016-10-31</td>\n",
              "      <td>23314</td>\n",
              "    </tr>\n",
              "    <tr>\n",
              "      <th>142</th>\n",
              "      <td>2016-11-30</td>\n",
              "      <td>21140</td>\n",
              "    </tr>\n",
              "    <tr>\n",
              "      <th>143</th>\n",
              "      <td>2016-12-31</td>\n",
              "      <td>19580</td>\n",
              "    </tr>\n",
              "    <tr>\n",
              "      <th>144</th>\n",
              "      <td>2017-01-31</td>\n",
              "      <td>11357</td>\n",
              "    </tr>\n",
              "  </tbody>\n",
              "</table>\n",
              "<p>145 rows × 2 columns</p>\n",
              "</div>"
            ],
            "text/plain": [
              "          Date      0\n",
              "0   2005-01-31  33983\n",
              "1   2005-02-28  32042\n",
              "2   2005-03-31  36970\n",
              "3   2005-04-30  38963\n",
              "4   2005-05-31  40572\n",
              "..         ...    ...\n",
              "140 2016-09-30  23235\n",
              "141 2016-10-31  23314\n",
              "142 2016-11-30  21140\n",
              "143 2016-12-31  19580\n",
              "144 2017-01-31  11357\n",
              "\n",
              "[145 rows x 2 columns]"
            ]
          },
          "metadata": {
            "tags": []
          },
          "execution_count": 26
        }
      ]
    },
    {
      "cell_type": "code",
      "metadata": {
        "id": "HFSELxQwXDNK",
        "colab_type": "code",
        "colab": {}
      },
      "source": [
        "chicago_prophet.columns = ['Date', 'Crime Count']"
      ],
      "execution_count": 0,
      "outputs": []
    },
    {
      "cell_type": "code",
      "metadata": {
        "id": "hrdN0garXKC-",
        "colab_type": "code",
        "colab": {
          "base_uri": "https://localhost:8080/",
          "height": 619
        },
        "outputId": "a87d0603-7b89-4522-be1c-18b8ab7191b9"
      },
      "source": [
        "chicago_df"
      ],
      "execution_count": 28,
      "outputs": [
        {
          "output_type": "execute_result",
          "data": {
            "text/html": [
              "<div>\n",
              "<style scoped>\n",
              "    .dataframe tbody tr th:only-of-type {\n",
              "        vertical-align: middle;\n",
              "    }\n",
              "\n",
              "    .dataframe tbody tr th {\n",
              "        vertical-align: top;\n",
              "    }\n",
              "\n",
              "    .dataframe thead th {\n",
              "        text-align: right;\n",
              "    }\n",
              "</style>\n",
              "<table border=\"1\" class=\"dataframe\">\n",
              "  <thead>\n",
              "    <tr style=\"text-align: right;\">\n",
              "      <th></th>\n",
              "      <th>ID</th>\n",
              "      <th>Date</th>\n",
              "      <th>Block</th>\n",
              "      <th>Primary Type</th>\n",
              "      <th>Description</th>\n",
              "      <th>Location Description</th>\n",
              "      <th>Arrest</th>\n",
              "      <th>Domestic</th>\n",
              "    </tr>\n",
              "    <tr>\n",
              "      <th>Date</th>\n",
              "      <th></th>\n",
              "      <th></th>\n",
              "      <th></th>\n",
              "      <th></th>\n",
              "      <th></th>\n",
              "      <th></th>\n",
              "      <th></th>\n",
              "      <th></th>\n",
              "    </tr>\n",
              "  </thead>\n",
              "  <tbody>\n",
              "    <tr>\n",
              "      <th>2006-04-02 13:00:00</th>\n",
              "      <td>4673626</td>\n",
              "      <td>04/02/2006 01:00:00 PM</td>\n",
              "      <td>055XX N MANGO AVE</td>\n",
              "      <td>OTHER OFFENSE</td>\n",
              "      <td>HARASSMENT BY TELEPHONE</td>\n",
              "      <td>RESIDENCE</td>\n",
              "      <td>False</td>\n",
              "      <td>False</td>\n",
              "    </tr>\n",
              "    <tr>\n",
              "      <th>2006-02-26 13:40:48</th>\n",
              "      <td>4673627</td>\n",
              "      <td>02/26/2006 01:40:48 PM</td>\n",
              "      <td>065XX S RHODES AVE</td>\n",
              "      <td>NARCOTICS</td>\n",
              "      <td>MANU/DELIVER:CRACK</td>\n",
              "      <td>SIDEWALK</td>\n",
              "      <td>True</td>\n",
              "      <td>False</td>\n",
              "    </tr>\n",
              "    <tr>\n",
              "      <th>2006-01-08 23:16:00</th>\n",
              "      <td>4673628</td>\n",
              "      <td>01/08/2006 11:16:00 PM</td>\n",
              "      <td>013XX E 69TH ST</td>\n",
              "      <td>ASSAULT</td>\n",
              "      <td>AGGRAVATED: HANDGUN</td>\n",
              "      <td>OTHER</td>\n",
              "      <td>False</td>\n",
              "      <td>False</td>\n",
              "    </tr>\n",
              "    <tr>\n",
              "      <th>2006-04-05 18:45:00</th>\n",
              "      <td>4673629</td>\n",
              "      <td>04/05/2006 06:45:00 PM</td>\n",
              "      <td>061XX W NEWPORT AVE</td>\n",
              "      <td>BATTERY</td>\n",
              "      <td>SIMPLE</td>\n",
              "      <td>RESIDENCE</td>\n",
              "      <td>False</td>\n",
              "      <td>False</td>\n",
              "    </tr>\n",
              "    <tr>\n",
              "      <th>2006-02-17 21:03:14</th>\n",
              "      <td>4673630</td>\n",
              "      <td>02/17/2006 09:03:14 PM</td>\n",
              "      <td>037XX W 60TH ST</td>\n",
              "      <td>NARCOTICS</td>\n",
              "      <td>POSS: CANNABIS 30GMS OR LESS</td>\n",
              "      <td>ALLEY</td>\n",
              "      <td>True</td>\n",
              "      <td>False</td>\n",
              "    </tr>\n",
              "    <tr>\n",
              "      <th>...</th>\n",
              "      <td>...</td>\n",
              "      <td>...</td>\n",
              "      <td>...</td>\n",
              "      <td>...</td>\n",
              "      <td>...</td>\n",
              "      <td>...</td>\n",
              "      <td>...</td>\n",
              "      <td>...</td>\n",
              "    </tr>\n",
              "    <tr>\n",
              "      <th>2016-05-03 23:33:00</th>\n",
              "      <td>10508679</td>\n",
              "      <td>05/03/2016 11:33:00 PM</td>\n",
              "      <td>026XX W 23RD PL</td>\n",
              "      <td>BATTERY</td>\n",
              "      <td>DOMESTIC BATTERY SIMPLE</td>\n",
              "      <td>APARTMENT</td>\n",
              "      <td>True</td>\n",
              "      <td>True</td>\n",
              "    </tr>\n",
              "    <tr>\n",
              "      <th>2016-05-03 23:30:00</th>\n",
              "      <td>10508680</td>\n",
              "      <td>05/03/2016 11:30:00 PM</td>\n",
              "      <td>073XX S HARVARD AVE</td>\n",
              "      <td>CRIMINAL DAMAGE</td>\n",
              "      <td>TO PROPERTY</td>\n",
              "      <td>APARTMENT</td>\n",
              "      <td>True</td>\n",
              "      <td>True</td>\n",
              "    </tr>\n",
              "    <tr>\n",
              "      <th>2016-05-03 00:15:00</th>\n",
              "      <td>10508681</td>\n",
              "      <td>05/03/2016 12:15:00 AM</td>\n",
              "      <td>024XX W 63RD ST</td>\n",
              "      <td>BATTERY</td>\n",
              "      <td>AGGRAVATED: HANDGUN</td>\n",
              "      <td>SIDEWALK</td>\n",
              "      <td>False</td>\n",
              "      <td>False</td>\n",
              "    </tr>\n",
              "    <tr>\n",
              "      <th>2016-05-03 21:07:00</th>\n",
              "      <td>10508690</td>\n",
              "      <td>05/03/2016 09:07:00 PM</td>\n",
              "      <td>082XX S EXCHANGE AVE</td>\n",
              "      <td>BATTERY</td>\n",
              "      <td>DOMESTIC BATTERY SIMPLE</td>\n",
              "      <td>SIDEWALK</td>\n",
              "      <td>False</td>\n",
              "      <td>True</td>\n",
              "    </tr>\n",
              "    <tr>\n",
              "      <th>2016-05-03 23:38:00</th>\n",
              "      <td>10508692</td>\n",
              "      <td>05/03/2016 11:38:00 PM</td>\n",
              "      <td>001XX E 75TH ST</td>\n",
              "      <td>OTHER OFFENSE</td>\n",
              "      <td>OTHER WEAPONS VIOLATION</td>\n",
              "      <td>PARKING LOT/GARAGE(NON.RESID.)</td>\n",
              "      <td>True</td>\n",
              "      <td>False</td>\n",
              "    </tr>\n",
              "  </tbody>\n",
              "</table>\n",
              "<p>6017767 rows × 8 columns</p>\n",
              "</div>"
            ],
            "text/plain": [
              "                           ID                    Date  ... Arrest Domestic\n",
              "Date                                                   ...                \n",
              "2006-04-02 13:00:00   4673626  04/02/2006 01:00:00 PM  ...  False    False\n",
              "2006-02-26 13:40:48   4673627  02/26/2006 01:40:48 PM  ...   True    False\n",
              "2006-01-08 23:16:00   4673628  01/08/2006 11:16:00 PM  ...  False    False\n",
              "2006-04-05 18:45:00   4673629  04/05/2006 06:45:00 PM  ...  False    False\n",
              "2006-02-17 21:03:14   4673630  02/17/2006 09:03:14 PM  ...   True    False\n",
              "...                       ...                     ...  ...    ...      ...\n",
              "2016-05-03 23:33:00  10508679  05/03/2016 11:33:00 PM  ...   True     True\n",
              "2016-05-03 23:30:00  10508680  05/03/2016 11:30:00 PM  ...   True     True\n",
              "2016-05-03 00:15:00  10508681  05/03/2016 12:15:00 AM  ...  False    False\n",
              "2016-05-03 21:07:00  10508690  05/03/2016 09:07:00 PM  ...  False     True\n",
              "2016-05-03 23:38:00  10508692  05/03/2016 11:38:00 PM  ...   True    False\n",
              "\n",
              "[6017767 rows x 8 columns]"
            ]
          },
          "metadata": {
            "tags": []
          },
          "execution_count": 28
        }
      ]
    },
    {
      "cell_type": "code",
      "metadata": {
        "id": "Kw-U2efzXN69",
        "colab_type": "code",
        "colab": {}
      },
      "source": [
        "chicago_prophet_df = pd.DataFrame(chicago_prophet)"
      ],
      "execution_count": 0,
      "outputs": []
    },
    {
      "cell_type": "code",
      "metadata": {
        "id": "R22Vm2Y6XVYN",
        "colab_type": "code",
        "colab": {
          "base_uri": "https://localhost:8080/",
          "height": 415
        },
        "outputId": "c6615dcb-9ab8-4d9b-9b0b-ca69ac1e8585"
      },
      "source": [
        "chicago_prophet_df"
      ],
      "execution_count": 30,
      "outputs": [
        {
          "output_type": "execute_result",
          "data": {
            "text/html": [
              "<div>\n",
              "<style scoped>\n",
              "    .dataframe tbody tr th:only-of-type {\n",
              "        vertical-align: middle;\n",
              "    }\n",
              "\n",
              "    .dataframe tbody tr th {\n",
              "        vertical-align: top;\n",
              "    }\n",
              "\n",
              "    .dataframe thead th {\n",
              "        text-align: right;\n",
              "    }\n",
              "</style>\n",
              "<table border=\"1\" class=\"dataframe\">\n",
              "  <thead>\n",
              "    <tr style=\"text-align: right;\">\n",
              "      <th></th>\n",
              "      <th>Date</th>\n",
              "      <th>Crime Count</th>\n",
              "    </tr>\n",
              "  </thead>\n",
              "  <tbody>\n",
              "    <tr>\n",
              "      <th>0</th>\n",
              "      <td>2005-01-31</td>\n",
              "      <td>33983</td>\n",
              "    </tr>\n",
              "    <tr>\n",
              "      <th>1</th>\n",
              "      <td>2005-02-28</td>\n",
              "      <td>32042</td>\n",
              "    </tr>\n",
              "    <tr>\n",
              "      <th>2</th>\n",
              "      <td>2005-03-31</td>\n",
              "      <td>36970</td>\n",
              "    </tr>\n",
              "    <tr>\n",
              "      <th>3</th>\n",
              "      <td>2005-04-30</td>\n",
              "      <td>38963</td>\n",
              "    </tr>\n",
              "    <tr>\n",
              "      <th>4</th>\n",
              "      <td>2005-05-31</td>\n",
              "      <td>40572</td>\n",
              "    </tr>\n",
              "    <tr>\n",
              "      <th>...</th>\n",
              "      <td>...</td>\n",
              "      <td>...</td>\n",
              "    </tr>\n",
              "    <tr>\n",
              "      <th>140</th>\n",
              "      <td>2016-09-30</td>\n",
              "      <td>23235</td>\n",
              "    </tr>\n",
              "    <tr>\n",
              "      <th>141</th>\n",
              "      <td>2016-10-31</td>\n",
              "      <td>23314</td>\n",
              "    </tr>\n",
              "    <tr>\n",
              "      <th>142</th>\n",
              "      <td>2016-11-30</td>\n",
              "      <td>21140</td>\n",
              "    </tr>\n",
              "    <tr>\n",
              "      <th>143</th>\n",
              "      <td>2016-12-31</td>\n",
              "      <td>19580</td>\n",
              "    </tr>\n",
              "    <tr>\n",
              "      <th>144</th>\n",
              "      <td>2017-01-31</td>\n",
              "      <td>11357</td>\n",
              "    </tr>\n",
              "  </tbody>\n",
              "</table>\n",
              "<p>145 rows × 2 columns</p>\n",
              "</div>"
            ],
            "text/plain": [
              "          Date  Crime Count\n",
              "0   2005-01-31        33983\n",
              "1   2005-02-28        32042\n",
              "2   2005-03-31        36970\n",
              "3   2005-04-30        38963\n",
              "4   2005-05-31        40572\n",
              "..         ...          ...\n",
              "140 2016-09-30        23235\n",
              "141 2016-10-31        23314\n",
              "142 2016-11-30        21140\n",
              "143 2016-12-31        19580\n",
              "144 2017-01-31        11357\n",
              "\n",
              "[145 rows x 2 columns]"
            ]
          },
          "metadata": {
            "tags": []
          },
          "execution_count": 30
        }
      ]
    },
    {
      "cell_type": "code",
      "metadata": {
        "id": "7cD7MYBSXXpb",
        "colab_type": "code",
        "colab": {
          "base_uri": "https://localhost:8080/",
          "height": 35
        },
        "outputId": "ead0854f-50d0-41d5-ca3b-dd81a209964a"
      },
      "source": [
        "chicago_prophet_df.columns"
      ],
      "execution_count": 31,
      "outputs": [
        {
          "output_type": "execute_result",
          "data": {
            "text/plain": [
              "Index(['Date', 'Crime Count'], dtype='object')"
            ]
          },
          "metadata": {
            "tags": []
          },
          "execution_count": 31
        }
      ]
    },
    {
      "cell_type": "code",
      "metadata": {
        "id": "0JD1IxOVXfTc",
        "colab_type": "code",
        "colab": {}
      },
      "source": [
        "chicago_prophet_df_final = chicago_prophet_df.rename(columns={'Date':'ds', 'Crime Count':'y'})\n"
      ],
      "execution_count": 0,
      "outputs": []
    },
    {
      "cell_type": "code",
      "metadata": {
        "id": "7FUcPWdIXi2P",
        "colab_type": "code",
        "colab": {
          "base_uri": "https://localhost:8080/",
          "height": 415
        },
        "outputId": "741d6686-a357-4b27-d748-2d46e6654a2a"
      },
      "source": [
        "chicago_prophet_df_final"
      ],
      "execution_count": 33,
      "outputs": [
        {
          "output_type": "execute_result",
          "data": {
            "text/html": [
              "<div>\n",
              "<style scoped>\n",
              "    .dataframe tbody tr th:only-of-type {\n",
              "        vertical-align: middle;\n",
              "    }\n",
              "\n",
              "    .dataframe tbody tr th {\n",
              "        vertical-align: top;\n",
              "    }\n",
              "\n",
              "    .dataframe thead th {\n",
              "        text-align: right;\n",
              "    }\n",
              "</style>\n",
              "<table border=\"1\" class=\"dataframe\">\n",
              "  <thead>\n",
              "    <tr style=\"text-align: right;\">\n",
              "      <th></th>\n",
              "      <th>ds</th>\n",
              "      <th>y</th>\n",
              "    </tr>\n",
              "  </thead>\n",
              "  <tbody>\n",
              "    <tr>\n",
              "      <th>0</th>\n",
              "      <td>2005-01-31</td>\n",
              "      <td>33983</td>\n",
              "    </tr>\n",
              "    <tr>\n",
              "      <th>1</th>\n",
              "      <td>2005-02-28</td>\n",
              "      <td>32042</td>\n",
              "    </tr>\n",
              "    <tr>\n",
              "      <th>2</th>\n",
              "      <td>2005-03-31</td>\n",
              "      <td>36970</td>\n",
              "    </tr>\n",
              "    <tr>\n",
              "      <th>3</th>\n",
              "      <td>2005-04-30</td>\n",
              "      <td>38963</td>\n",
              "    </tr>\n",
              "    <tr>\n",
              "      <th>4</th>\n",
              "      <td>2005-05-31</td>\n",
              "      <td>40572</td>\n",
              "    </tr>\n",
              "    <tr>\n",
              "      <th>...</th>\n",
              "      <td>...</td>\n",
              "      <td>...</td>\n",
              "    </tr>\n",
              "    <tr>\n",
              "      <th>140</th>\n",
              "      <td>2016-09-30</td>\n",
              "      <td>23235</td>\n",
              "    </tr>\n",
              "    <tr>\n",
              "      <th>141</th>\n",
              "      <td>2016-10-31</td>\n",
              "      <td>23314</td>\n",
              "    </tr>\n",
              "    <tr>\n",
              "      <th>142</th>\n",
              "      <td>2016-11-30</td>\n",
              "      <td>21140</td>\n",
              "    </tr>\n",
              "    <tr>\n",
              "      <th>143</th>\n",
              "      <td>2016-12-31</td>\n",
              "      <td>19580</td>\n",
              "    </tr>\n",
              "    <tr>\n",
              "      <th>144</th>\n",
              "      <td>2017-01-31</td>\n",
              "      <td>11357</td>\n",
              "    </tr>\n",
              "  </tbody>\n",
              "</table>\n",
              "<p>145 rows × 2 columns</p>\n",
              "</div>"
            ],
            "text/plain": [
              "            ds      y\n",
              "0   2005-01-31  33983\n",
              "1   2005-02-28  32042\n",
              "2   2005-03-31  36970\n",
              "3   2005-04-30  38963\n",
              "4   2005-05-31  40572\n",
              "..         ...    ...\n",
              "140 2016-09-30  23235\n",
              "141 2016-10-31  23314\n",
              "142 2016-11-30  21140\n",
              "143 2016-12-31  19580\n",
              "144 2017-01-31  11357\n",
              "\n",
              "[145 rows x 2 columns]"
            ]
          },
          "metadata": {
            "tags": []
          },
          "execution_count": 33
        }
      ]
    },
    {
      "cell_type": "code",
      "metadata": {
        "id": "Mt8fo5xvXls1",
        "colab_type": "code",
        "colab": {
          "base_uri": "https://localhost:8080/",
          "height": 69
        },
        "outputId": "b26b3c4a-d986-494c-ebb7-f66df7cb7093"
      },
      "source": [
        "m=Prophet()\n",
        "m.fit(chicago_prophet_df_final)"
      ],
      "execution_count": 35,
      "outputs": [
        {
          "output_type": "stream",
          "text": [
            "INFO:fbprophet:Disabling weekly seasonality. Run prophet with weekly_seasonality=True to override this.\n",
            "INFO:fbprophet:Disabling daily seasonality. Run prophet with daily_seasonality=True to override this.\n"
          ],
          "name": "stderr"
        },
        {
          "output_type": "execute_result",
          "data": {
            "text/plain": [
              "<fbprophet.forecaster.Prophet at 0x7fe743b95898>"
            ]
          },
          "metadata": {
            "tags": []
          },
          "execution_count": 35
        }
      ]
    },
    {
      "cell_type": "code",
      "metadata": {
        "id": "0lOoPQalXtNE",
        "colab_type": "code",
        "colab": {}
      },
      "source": [
        "# Forcasting into the future\n",
        "future = m.make_future_dataframe(periods=365)\n",
        "forecast = m.predict(future)"
      ],
      "execution_count": 0,
      "outputs": []
    },
    {
      "cell_type": "code",
      "metadata": {
        "id": "JDavb0JNX3e0",
        "colab_type": "code",
        "colab": {
          "base_uri": "https://localhost:8080/",
          "height": 609
        },
        "outputId": "0878a1bd-cc55-4e5b-b8b7-4ea6496ef7e4"
      },
      "source": [
        "forecast"
      ],
      "execution_count": 37,
      "outputs": [
        {
          "output_type": "execute_result",
          "data": {
            "text/html": [
              "<div>\n",
              "<style scoped>\n",
              "    .dataframe tbody tr th:only-of-type {\n",
              "        vertical-align: middle;\n",
              "    }\n",
              "\n",
              "    .dataframe tbody tr th {\n",
              "        vertical-align: top;\n",
              "    }\n",
              "\n",
              "    .dataframe thead th {\n",
              "        text-align: right;\n",
              "    }\n",
              "</style>\n",
              "<table border=\"1\" class=\"dataframe\">\n",
              "  <thead>\n",
              "    <tr style=\"text-align: right;\">\n",
              "      <th></th>\n",
              "      <th>ds</th>\n",
              "      <th>trend</th>\n",
              "      <th>yhat_lower</th>\n",
              "      <th>yhat_upper</th>\n",
              "      <th>trend_lower</th>\n",
              "      <th>trend_upper</th>\n",
              "      <th>additive_terms</th>\n",
              "      <th>additive_terms_lower</th>\n",
              "      <th>additive_terms_upper</th>\n",
              "      <th>yearly</th>\n",
              "      <th>yearly_lower</th>\n",
              "      <th>yearly_upper</th>\n",
              "      <th>multiplicative_terms</th>\n",
              "      <th>multiplicative_terms_lower</th>\n",
              "      <th>multiplicative_terms_upper</th>\n",
              "      <th>yhat</th>\n",
              "    </tr>\n",
              "  </thead>\n",
              "  <tbody>\n",
              "    <tr>\n",
              "      <th>0</th>\n",
              "      <td>2005-01-31</td>\n",
              "      <td>60454.736755</td>\n",
              "      <td>40173.061032</td>\n",
              "      <td>73478.842616</td>\n",
              "      <td>60454.736755</td>\n",
              "      <td>60454.736755</td>\n",
              "      <td>-4762.400048</td>\n",
              "      <td>-4762.400048</td>\n",
              "      <td>-4762.400048</td>\n",
              "      <td>-4762.400048</td>\n",
              "      <td>-4762.400048</td>\n",
              "      <td>-4762.400048</td>\n",
              "      <td>0.0</td>\n",
              "      <td>0.0</td>\n",
              "      <td>0.0</td>\n",
              "      <td>55692.336707</td>\n",
              "    </tr>\n",
              "    <tr>\n",
              "      <th>1</th>\n",
              "      <td>2005-02-28</td>\n",
              "      <td>60322.333828</td>\n",
              "      <td>34739.576195</td>\n",
              "      <td>67012.866019</td>\n",
              "      <td>60322.333828</td>\n",
              "      <td>60322.333828</td>\n",
              "      <td>-9500.508891</td>\n",
              "      <td>-9500.508891</td>\n",
              "      <td>-9500.508891</td>\n",
              "      <td>-9500.508891</td>\n",
              "      <td>-9500.508891</td>\n",
              "      <td>-9500.508891</td>\n",
              "      <td>0.0</td>\n",
              "      <td>0.0</td>\n",
              "      <td>0.0</td>\n",
              "      <td>50821.824937</td>\n",
              "    </tr>\n",
              "    <tr>\n",
              "      <th>2</th>\n",
              "      <td>2005-03-31</td>\n",
              "      <td>60175.744873</td>\n",
              "      <td>41172.579265</td>\n",
              "      <td>74963.970812</td>\n",
              "      <td>60175.744873</td>\n",
              "      <td>60175.744873</td>\n",
              "      <td>-1224.148242</td>\n",
              "      <td>-1224.148242</td>\n",
              "      <td>-1224.148242</td>\n",
              "      <td>-1224.148242</td>\n",
              "      <td>-1224.148242</td>\n",
              "      <td>-1224.148242</td>\n",
              "      <td>0.0</td>\n",
              "      <td>0.0</td>\n",
              "      <td>0.0</td>\n",
              "      <td>58951.596630</td>\n",
              "    </tr>\n",
              "    <tr>\n",
              "      <th>3</th>\n",
              "      <td>2005-04-30</td>\n",
              "      <td>60033.884593</td>\n",
              "      <td>44343.043552</td>\n",
              "      <td>77910.103291</td>\n",
              "      <td>60033.884593</td>\n",
              "      <td>60033.884593</td>\n",
              "      <td>1182.830385</td>\n",
              "      <td>1182.830385</td>\n",
              "      <td>1182.830385</td>\n",
              "      <td>1182.830385</td>\n",
              "      <td>1182.830385</td>\n",
              "      <td>1182.830385</td>\n",
              "      <td>0.0</td>\n",
              "      <td>0.0</td>\n",
              "      <td>0.0</td>\n",
              "      <td>61216.714978</td>\n",
              "    </tr>\n",
              "    <tr>\n",
              "      <th>4</th>\n",
              "      <td>2005-05-31</td>\n",
              "      <td>59887.295638</td>\n",
              "      <td>48645.308307</td>\n",
              "      <td>82386.624637</td>\n",
              "      <td>59887.295638</td>\n",
              "      <td>59887.295638</td>\n",
              "      <td>5498.250108</td>\n",
              "      <td>5498.250108</td>\n",
              "      <td>5498.250108</td>\n",
              "      <td>5498.250108</td>\n",
              "      <td>5498.250108</td>\n",
              "      <td>5498.250108</td>\n",
              "      <td>0.0</td>\n",
              "      <td>0.0</td>\n",
              "      <td>0.0</td>\n",
              "      <td>65385.545746</td>\n",
              "    </tr>\n",
              "    <tr>\n",
              "      <th>...</th>\n",
              "      <td>...</td>\n",
              "      <td>...</td>\n",
              "      <td>...</td>\n",
              "      <td>...</td>\n",
              "      <td>...</td>\n",
              "      <td>...</td>\n",
              "      <td>...</td>\n",
              "      <td>...</td>\n",
              "      <td>...</td>\n",
              "      <td>...</td>\n",
              "      <td>...</td>\n",
              "      <td>...</td>\n",
              "      <td>...</td>\n",
              "      <td>...</td>\n",
              "      <td>...</td>\n",
              "      <td>...</td>\n",
              "    </tr>\n",
              "    <tr>\n",
              "      <th>505</th>\n",
              "      <td>2018-01-27</td>\n",
              "      <td>10104.041516</td>\n",
              "      <td>-12582.710133</td>\n",
              "      <td>22442.504734</td>\n",
              "      <td>9942.465471</td>\n",
              "      <td>10270.745700</td>\n",
              "      <td>-4977.963003</td>\n",
              "      <td>-4977.963003</td>\n",
              "      <td>-4977.963003</td>\n",
              "      <td>-4977.963003</td>\n",
              "      <td>-4977.963003</td>\n",
              "      <td>-4977.963003</td>\n",
              "      <td>0.0</td>\n",
              "      <td>0.0</td>\n",
              "      <td>0.0</td>\n",
              "      <td>5126.078513</td>\n",
              "    </tr>\n",
              "    <tr>\n",
              "      <th>506</th>\n",
              "      <td>2018-01-28</td>\n",
              "      <td>10090.974833</td>\n",
              "      <td>-11688.758152</td>\n",
              "      <td>21577.418043</td>\n",
              "      <td>9929.336848</td>\n",
              "      <td>10257.912547</td>\n",
              "      <td>-4922.604059</td>\n",
              "      <td>-4922.604059</td>\n",
              "      <td>-4922.604059</td>\n",
              "      <td>-4922.604059</td>\n",
              "      <td>-4922.604059</td>\n",
              "      <td>-4922.604059</td>\n",
              "      <td>0.0</td>\n",
              "      <td>0.0</td>\n",
              "      <td>0.0</td>\n",
              "      <td>5168.370774</td>\n",
              "    </tr>\n",
              "    <tr>\n",
              "      <th>507</th>\n",
              "      <td>2018-01-29</td>\n",
              "      <td>10077.908150</td>\n",
              "      <td>-11307.981588</td>\n",
              "      <td>22624.175715</td>\n",
              "      <td>9915.797415</td>\n",
              "      <td>10245.750154</td>\n",
              "      <td>-4867.916431</td>\n",
              "      <td>-4867.916431</td>\n",
              "      <td>-4867.916431</td>\n",
              "      <td>-4867.916431</td>\n",
              "      <td>-4867.916431</td>\n",
              "      <td>-4867.916431</td>\n",
              "      <td>0.0</td>\n",
              "      <td>0.0</td>\n",
              "      <td>0.0</td>\n",
              "      <td>5209.991719</td>\n",
              "    </tr>\n",
              "    <tr>\n",
              "      <th>508</th>\n",
              "      <td>2018-01-30</td>\n",
              "      <td>10064.841467</td>\n",
              "      <td>-11305.224548</td>\n",
              "      <td>21635.705398</td>\n",
              "      <td>9901.911196</td>\n",
              "      <td>10233.581910</td>\n",
              "      <td>-4816.731916</td>\n",
              "      <td>-4816.731916</td>\n",
              "      <td>-4816.731916</td>\n",
              "      <td>-4816.731916</td>\n",
              "      <td>-4816.731916</td>\n",
              "      <td>-4816.731916</td>\n",
              "      <td>0.0</td>\n",
              "      <td>0.0</td>\n",
              "      <td>0.0</td>\n",
              "      <td>5248.109550</td>\n",
              "    </tr>\n",
              "    <tr>\n",
              "      <th>509</th>\n",
              "      <td>2018-01-31</td>\n",
              "      <td>10051.774784</td>\n",
              "      <td>-11253.963051</td>\n",
              "      <td>21292.933130</td>\n",
              "      <td>9888.024977</td>\n",
              "      <td>10221.413665</td>\n",
              "      <td>-4772.139268</td>\n",
              "      <td>-4772.139268</td>\n",
              "      <td>-4772.139268</td>\n",
              "      <td>-4772.139268</td>\n",
              "      <td>-4772.139268</td>\n",
              "      <td>-4772.139268</td>\n",
              "      <td>0.0</td>\n",
              "      <td>0.0</td>\n",
              "      <td>0.0</td>\n",
              "      <td>5279.635515</td>\n",
              "    </tr>\n",
              "  </tbody>\n",
              "</table>\n",
              "<p>510 rows × 16 columns</p>\n",
              "</div>"
            ],
            "text/plain": [
              "            ds         trend  ...  multiplicative_terms_upper          yhat\n",
              "0   2005-01-31  60454.736755  ...                         0.0  55692.336707\n",
              "1   2005-02-28  60322.333828  ...                         0.0  50821.824937\n",
              "2   2005-03-31  60175.744873  ...                         0.0  58951.596630\n",
              "3   2005-04-30  60033.884593  ...                         0.0  61216.714978\n",
              "4   2005-05-31  59887.295638  ...                         0.0  65385.545746\n",
              "..         ...           ...  ...                         ...           ...\n",
              "505 2018-01-27  10104.041516  ...                         0.0   5126.078513\n",
              "506 2018-01-28  10090.974833  ...                         0.0   5168.370774\n",
              "507 2018-01-29  10077.908150  ...                         0.0   5209.991719\n",
              "508 2018-01-30  10064.841467  ...                         0.0   5248.109550\n",
              "509 2018-01-31  10051.774784  ...                         0.0   5279.635515\n",
              "\n",
              "[510 rows x 16 columns]"
            ]
          },
          "metadata": {
            "tags": []
          },
          "execution_count": 37
        }
      ]
    },
    {
      "cell_type": "code",
      "metadata": {
        "id": "4fof1ErKX8UW",
        "colab_type": "code",
        "colab": {
          "base_uri": "https://localhost:8080/",
          "height": 441
        },
        "outputId": "0586eaa7-566d-4163-dfe7-b018688d1435"
      },
      "source": [
        "figure = m.plot(forecast, xlabel='Date', ylabel='Crime Rate')"
      ],
      "execution_count": 38,
      "outputs": [
        {
          "output_type": "display_data",
          "data": {
            "image/png": "[encoded data removed]",
            "text/plain": [
              "<Figure size 720x432 with 1 Axes>"
            ]
          },
          "metadata": {
            "tags": []
          }
        }
      ]
    },
    {
      "cell_type": "code",
      "metadata": {
        "id": "Qesvbs1PYD0r",
        "colab_type": "code",
        "colab": {
          "base_uri": "https://localhost:8080/",
          "height": 441
        },
        "outputId": "a023434e-5e06-42f7-faa9-a39d5c5fcfd4"
      },
      "source": [
        "figure3 = m.plot_components(forecast)"
      ],
      "execution_count": 39,
      "outputs": [
        {
          "output_type": "display_data",
          "data": {
            "image/png": "[encoded data removed]",
            "text/plain": [
              "<Figure size 648x432 with 2 Axes>"
            ]
          },
          "metadata": {
            "tags": []
          }
        }
      ]
    },
    {
      "cell_type": "code",
      "metadata": {
        "id": "1vEGU3dgYJFL",
        "colab_type": "code",
        "colab": {}
      },
      "source": [
        ""
      ],
      "execution_count": 0,
      "outputs": []
    }
  ]
}